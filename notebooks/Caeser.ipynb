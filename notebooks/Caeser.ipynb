{
 "cells": [
  {
   "cell_type": "markdown",
   "metadata": {
    "id": "5GSMwZnsd1-u"
   },
   "source": [
    "# Deciphering Code with Character-Level RNN\n",
    "\n",
    "\n",
    "\n"
   ]
  },
  {
   "cell_type": "markdown",
   "metadata": {
    "id": "gOHhumaPBdAk"
   },
   "source": [
    "## Dataset"
   ]
  },
  {
   "cell_type": "code",
   "execution_count": 1,
   "metadata": {},
   "outputs": [],
   "source": [
    "import pandas as pd\n",
    "import numpy as np\n",
    "\n",
    "from keras.preprocessing.text import Tokenizer\n",
    "from keras.preprocessing.sequence import pad_sequences"
   ]
  },
  {
   "cell_type": "code",
   "execution_count": 2,
   "metadata": {
    "scrolled": true
   },
   "outputs": [
    {
     "data": {
      "text/html": [
       "<div>\n",
       "<style scoped>\n",
       "    .dataframe tbody tr th:only-of-type {\n",
       "        vertical-align: middle;\n",
       "    }\n",
       "\n",
       "    .dataframe tbody tr th {\n",
       "        vertical-align: top;\n",
       "    }\n",
       "\n",
       "    .dataframe thead th {\n",
       "        text-align: right;\n",
       "    }\n",
       "</style>\n",
       "<table border=\"1\" class=\"dataframe\">\n",
       "  <thead>\n",
       "    <tr style=\"text-align: right;\">\n",
       "      <th></th>\n",
       "      <th>Passwords</th>\n",
       "      <th>ciphertext</th>\n",
       "      <th>key</th>\n",
       "    </tr>\n",
       "  </thead>\n",
       "  <tbody>\n",
       "    <tr>\n",
       "      <th>0</th>\n",
       "      <td>2428031609</td>\n",
       "      <td>3539142710</td>\n",
       "      <td>19</td>\n",
       "    </tr>\n",
       "    <tr>\n",
       "      <th>1</th>\n",
       "      <td>4531040045</td>\n",
       "      <td>0197606601</td>\n",
       "      <td>4</td>\n",
       "    </tr>\n",
       "    <tr>\n",
       "      <th>2</th>\n",
       "      <td>almigrana1</td>\n",
       "      <td>sdeayjsfs3</td>\n",
       "      <td>8</td>\n",
       "    </tr>\n",
       "    <tr>\n",
       "      <th>3</th>\n",
       "      <td>quiero95</td>\n",
       "      <td>nrfbol62</td>\n",
       "      <td>3</td>\n",
       "    </tr>\n",
       "    <tr>\n",
       "      <th>4</th>\n",
       "      <td>doitnow2</td>\n",
       "      <td>vgalfgo4</td>\n",
       "      <td>8</td>\n",
       "    </tr>\n",
       "    <tr>\n",
       "      <th>...</th>\n",
       "      <td>...</td>\n",
       "      <td>...</td>\n",
       "      <td>...</td>\n",
       "    </tr>\n",
       "    <tr>\n",
       "      <th>199995</th>\n",
       "      <td>dime168</td>\n",
       "      <td>otxp613</td>\n",
       "      <td>15</td>\n",
       "    </tr>\n",
       "    <tr>\n",
       "      <th>199996</th>\n",
       "      <td>!l0v3k3v!n</td>\n",
       "      <td>x6h9w9hz</td>\n",
       "      <td>14</td>\n",
       "    </tr>\n",
       "    <tr>\n",
       "      <th>199997</th>\n",
       "      <td>9870tmf05</td>\n",
       "      <td>3214ngz49</td>\n",
       "      <td>6</td>\n",
       "    </tr>\n",
       "    <tr>\n",
       "      <th>199998</th>\n",
       "      <td>CAMILA</td>\n",
       "      <td>IGSORG</td>\n",
       "      <td>20</td>\n",
       "    </tr>\n",
       "    <tr>\n",
       "      <th>199999</th>\n",
       "      <td>caren14</td>\n",
       "      <td>omdqz70</td>\n",
       "      <td>14</td>\n",
       "    </tr>\n",
       "  </tbody>\n",
       "</table>\n",
       "<p>200000 rows × 3 columns</p>\n",
       "</div>"
      ],
      "text/plain": [
       "         Passwords  ciphertext  key\n",
       "0       2428031609  3539142710   19\n",
       "1       4531040045  0197606601    4\n",
       "2       almigrana1  sdeayjsfs3    8\n",
       "3         quiero95    nrfbol62    3\n",
       "4         doitnow2    vgalfgo4    8\n",
       "...            ...         ...  ...\n",
       "199995     dime168     otxp613   15\n",
       "199996  !l0v3k3v!n    x6h9w9hz   14\n",
       "199997   9870tmf05   3214ngz49    6\n",
       "199998      CAMILA      IGSORG   20\n",
       "199999     caren14     omdqz70   14\n",
       "\n",
       "[200000 rows x 3 columns]"
      ]
     },
     "execution_count": 2,
     "metadata": {},
     "output_type": "execute_result"
    }
   ],
   "source": [
    "df = pd.read_csv('../data/Caesar.csv')\n",
    "df"
   ]
  },
  {
   "cell_type": "code",
   "execution_count": 3,
   "metadata": {},
   "outputs": [],
   "source": [
    "for i in range(len(df['Passwords'])):\n",
    "    if len(df['Passwords'][i]) > 20:\n",
    "        df.drop(i, axis=0, inplace=True)"
   ]
  },
  {
   "cell_type": "code",
   "execution_count": 4,
   "metadata": {},
   "outputs": [],
   "source": [
    "df = df.dropna()[:120000].reset_index(drop=True)"
   ]
  },
  {
   "cell_type": "code",
   "execution_count": 5,
   "metadata": {},
   "outputs": [
    {
     "data": {
      "text/html": [
       "<div>\n",
       "<style scoped>\n",
       "    .dataframe tbody tr th:only-of-type {\n",
       "        vertical-align: middle;\n",
       "    }\n",
       "\n",
       "    .dataframe tbody tr th {\n",
       "        vertical-align: top;\n",
       "    }\n",
       "\n",
       "    .dataframe thead th {\n",
       "        text-align: right;\n",
       "    }\n",
       "</style>\n",
       "<table border=\"1\" class=\"dataframe\">\n",
       "  <thead>\n",
       "    <tr style=\"text-align: right;\">\n",
       "      <th></th>\n",
       "      <th>Passwords</th>\n",
       "      <th>ciphertext</th>\n",
       "      <th>key</th>\n",
       "    </tr>\n",
       "  </thead>\n",
       "  <tbody>\n",
       "    <tr>\n",
       "      <th>0</th>\n",
       "      <td>2428031609</td>\n",
       "      <td>3539142710</td>\n",
       "      <td>19</td>\n",
       "    </tr>\n",
       "    <tr>\n",
       "      <th>1</th>\n",
       "      <td>4531040045</td>\n",
       "      <td>0197606601</td>\n",
       "      <td>4</td>\n",
       "    </tr>\n",
       "    <tr>\n",
       "      <th>2</th>\n",
       "      <td>almigrana1</td>\n",
       "      <td>sdeayjsfs3</td>\n",
       "      <td>8</td>\n",
       "    </tr>\n",
       "    <tr>\n",
       "      <th>3</th>\n",
       "      <td>quiero95</td>\n",
       "      <td>nrfbol62</td>\n",
       "      <td>3</td>\n",
       "    </tr>\n",
       "    <tr>\n",
       "      <th>4</th>\n",
       "      <td>doitnow2</td>\n",
       "      <td>vgalfgo4</td>\n",
       "      <td>8</td>\n",
       "    </tr>\n",
       "    <tr>\n",
       "      <th>...</th>\n",
       "      <td>...</td>\n",
       "      <td>...</td>\n",
       "      <td>...</td>\n",
       "    </tr>\n",
       "    <tr>\n",
       "      <th>119995</th>\n",
       "      <td>studme</td>\n",
       "      <td>uvwfog</td>\n",
       "      <td>24</td>\n",
       "    </tr>\n",
       "    <tr>\n",
       "      <th>119996</th>\n",
       "      <td>rockyou816</td>\n",
       "      <td>vsgocsy816</td>\n",
       "      <td>22</td>\n",
       "    </tr>\n",
       "    <tr>\n",
       "      <th>119997</th>\n",
       "      <td>redred2976</td>\n",
       "      <td>dqpdqp8532</td>\n",
       "      <td>14</td>\n",
       "    </tr>\n",
       "    <tr>\n",
       "      <th>119998</th>\n",
       "      <td>knoxx</td>\n",
       "      <td>ehirr</td>\n",
       "      <td>6</td>\n",
       "    </tr>\n",
       "    <tr>\n",
       "      <th>119999</th>\n",
       "      <td>lovef08</td>\n",
       "      <td>oryhi08</td>\n",
       "      <td>23</td>\n",
       "    </tr>\n",
       "  </tbody>\n",
       "</table>\n",
       "<p>120000 rows × 3 columns</p>\n",
       "</div>"
      ],
      "text/plain": [
       "         Passwords  ciphertext  key\n",
       "0       2428031609  3539142710   19\n",
       "1       4531040045  0197606601    4\n",
       "2       almigrana1  sdeayjsfs3    8\n",
       "3         quiero95    nrfbol62    3\n",
       "4         doitnow2    vgalfgo4    8\n",
       "...            ...         ...  ...\n",
       "119995      studme      uvwfog   24\n",
       "119996  rockyou816  vsgocsy816   22\n",
       "119997  redred2976  dqpdqp8532   14\n",
       "119998       knoxx       ehirr    6\n",
       "119999     lovef08     oryhi08   23\n",
       "\n",
       "[120000 rows x 3 columns]"
      ]
     },
     "execution_count": 5,
     "metadata": {},
     "output_type": "execute_result"
    }
   ],
   "source": [
    "df['Passwords'].apply(str)\n",
    "df['ciphertext'].apply(str)\n",
    "df"
   ]
  },
  {
   "cell_type": "markdown",
   "metadata": {
    "id": "44T02G-FBNYf"
   },
   "source": [
    "## Preprocessing Data"
   ]
  },
  {
   "cell_type": "code",
   "execution_count": 6,
   "metadata": {
    "colab": {
     "base_uri": "https://localhost:8080/"
    },
    "id": "I9b4vwned1-4",
    "outputId": "a955da71-52ac-4881-e8ed-78d398c47ec9"
   },
   "outputs": [],
   "source": [
    "def tokenize(x):\n",
    "    x_tk = Tokenizer(char_level=True)\n",
    "    x_tk.fit_on_texts(x)                 \n",
    "    return x_tk.texts_to_sequences(x), x_tk\n",
    "\n",
    "def pad(x, length=None):\n",
    "    if length is None:\n",
    "        length = max([len(sentence) for sentence in x])\n",
    "    return pad_sequences(x, maxlen=length, padding=\"post\", truncating=\"post\",)"
   ]
  },
  {
   "cell_type": "markdown",
   "metadata": {
    "id": "fdV69c9gd1-5"
   },
   "source": [
    "### Preprocess Pipeline"
   ]
  },
  {
   "cell_type": "code",
   "execution_count": 7,
   "metadata": {
    "colab": {
     "base_uri": "https://localhost:8080/"
    },
    "id": "uxTxyzCHd1-5",
    "outputId": "3f358e66-7cca-4959-8f96-5b96b818532f"
   },
   "outputs": [],
   "source": [
    "def preprocess(x, y):\n",
    "    preprocess_x, x_tk = tokenize(x)\n",
    "    preprocess_y, y_tk = tokenize(y)\n",
    "\n",
    "    preprocess_x = pad(preprocess_x)\n",
    "    preprocess_y = pad(preprocess_y)\n",
    "\n",
    "    preprocess_y = preprocess_y.reshape(*preprocess_y.shape, 1)\n",
    "\n",
    "    return preprocess_x, preprocess_y, x_tk, y_tk"
   ]
  },
  {
   "cell_type": "code",
   "execution_count": 8,
   "metadata": {},
   "outputs": [],
   "source": [
    "preproc_code_sentences, preproc_plaintext_sentences, code_tokenizer, plaintext_tokenizer = preprocess(df['Passwords'], df['ciphertext'])"
   ]
  },
  {
   "cell_type": "code",
   "execution_count": 9,
   "metadata": {
    "colab": {
     "base_uri": "https://localhost:8080/"
    },
    "id": "-NlbiDf-d1-6",
    "outputId": "21c9cb2e-025e-4032-e29b-8d5a36a6cd4a"
   },
   "outputs": [
    {
     "data": {
      "text/plain": [
       "array([ 7, 17,  7, 15,  5, 13,  3, 19,  5, 12,  0,  0,  0,  0,  0,  0,  0,\n",
       "        0,  0,  0])"
      ]
     },
     "execution_count": 9,
     "metadata": {},
     "output_type": "execute_result"
    }
   ],
   "source": [
    "preproc_code_sentences[0]"
   ]
  },
  {
   "cell_type": "code",
   "execution_count": 10,
   "metadata": {
    "colab": {
     "base_uri": "https://localhost:8080/"
    },
    "id": "CrK0B3ttd1-6",
    "outputId": "86b2b875-ef69-4f0b-f245-62dbf0d7bb3d"
   },
   "outputs": [
    {
     "data": {
      "text/plain": [
       "121"
      ]
     },
     "execution_count": 10,
     "metadata": {},
     "output_type": "execute_result"
    }
   ],
   "source": [
    "len(code_tokenizer.word_index)+1"
   ]
  },
  {
   "cell_type": "code",
   "execution_count": 11,
   "metadata": {
    "colab": {
     "base_uri": "https://localhost:8080/"
    },
    "id": "DRkiK6Qjd1-6",
    "outputId": "a473c0bf-f76d-4689-8884-028a871751b7"
   },
   "outputs": [
    {
     "data": {
      "text/plain": [
       "51"
      ]
     },
     "execution_count": 11,
     "metadata": {},
     "output_type": "execute_result"
    }
   ],
   "source": [
    "len(plaintext_tokenizer.word_index)+1"
   ]
  },
  {
   "cell_type": "code",
   "execution_count": 12,
   "metadata": {
    "colab": {
     "base_uri": "https://localhost:8080/"
    },
    "id": "Hk8HcQtEd1-7",
    "outputId": "e734311c-c349-47d9-c726-ff275f434840"
   },
   "outputs": [
    {
     "data": {
      "text/plain": [
       "{'1': 1,\n",
       " '0': 2,\n",
       " '2': 3,\n",
       " '3': 4,\n",
       " '9': 5,\n",
       " '8': 6,\n",
       " '5': 7,\n",
       " '4': 8,\n",
       " '7': 9,\n",
       " '6': 10,\n",
       " 'q': 11,\n",
       " 'x': 12,\n",
       " 'j': 13,\n",
       " 'z': 14,\n",
       " 'f': 15,\n",
       " 'w': 16,\n",
       " 'v': 17,\n",
       " 'c': 18,\n",
       " 'g': 19,\n",
       " 'd': 20,\n",
       " 'u': 21,\n",
       " 'k': 22,\n",
       " 'p': 23,\n",
       " 'b': 24,\n",
       " 'h': 25,\n",
       " 'm': 26,\n",
       " 'y': 27,\n",
       " 't': 28,\n",
       " 'n': 29,\n",
       " 's': 30,\n",
       " 'r': 31,\n",
       " 'o': 32,\n",
       " 'l': 33,\n",
       " 'i': 34,\n",
       " 'e': 35,\n",
       " 'a': 36,\n",
       " 'à': 37,\n",
       " 'ã': 38,\n",
       " '¼': 39,\n",
       " 'â': 40,\n",
       " 'ä': 41,\n",
       " '³': 42,\n",
       " '¹': 43,\n",
       " 'î': 44,\n",
       " 'ï': 45,\n",
       " '²': 46,\n",
       " 'ª': 47,\n",
       " 'å': 48,\n",
       " 'ö': 49,\n",
       " 'á': 50}"
      ]
     },
     "execution_count": 12,
     "metadata": {},
     "output_type": "execute_result"
    }
   ],
   "source": [
    "plaintext_tokenizer.word_index"
   ]
  },
  {
   "cell_type": "code",
   "execution_count": 13,
   "metadata": {
    "colab": {
     "base_uri": "https://localhost:8080/"
    },
    "id": "PPevgp-id1-7",
    "outputId": "e7085fd4-de9d-4636-a167-3681e52eb0a6"
   },
   "outputs": [
    {
     "data": {
      "text/plain": [
       "(120000, 20)"
      ]
     },
     "execution_count": 13,
     "metadata": {},
     "output_type": "execute_result"
    }
   ],
   "source": [
    "preproc_code_sentences.shape"
   ]
  },
  {
   "cell_type": "code",
   "execution_count": 14,
   "metadata": {
    "colab": {
     "base_uri": "https://localhost:8080/"
    },
    "id": "cxFxFP-Bd1-7",
    "outputId": "f2ae4663-bf7d-4992-ebad-54c974e2b78e"
   },
   "outputs": [
    {
     "data": {
      "text/plain": [
       "(120000, 20, 1)"
      ]
     },
     "execution_count": 14,
     "metadata": {},
     "output_type": "execute_result"
    }
   ],
   "source": [
    "preproc_plaintext_sentences.shape"
   ]
  },
  {
   "cell_type": "markdown",
   "metadata": {
    "id": "sKHZqlXyd1-8"
   },
   "source": [
    "# LSTM"
   ]
  },
  {
   "cell_type": "code",
   "execution_count": 15,
   "metadata": {
    "id": "HnLsrRNZd1-8"
   },
   "outputs": [],
   "source": [
    "from keras.layers import GRU, Input, Dense, TimeDistributed, LSTM\n",
    "from keras.models import Model, Sequential\n",
    "from keras.layers import Activation\n",
    "from tensorflow.keras.optimizers import Adam\n",
    "from keras.losses import sparse_categorical_crossentropy\n",
    "import tensorflow\n",
    "\n",
    "\n",
    "def lstm(input_shape, output_sequence_length, code_vocab_size, plaintext_vocab_size):\n",
    "    x = Input(shape=input_shape[1:])   \n",
    "    seq = LSTM(units= 128, return_sequences = True, name='Layer1')(x)\n",
    "    seq = LSTM(units= 128, return_sequences = True, name='Layer2')(seq)\n",
    "    output = TimeDistributed(Dense(units = plaintext_vocab_size, activation='softmax', name='Layer3'))(seq)\n",
    "    model = Model(inputs = x, outputs = output)\n",
    "    model.compile(optimizer='adam', loss=sparse_categorical_crossentropy, metrics=['accuracy'])\n",
    "    model.summary()\n",
    "    return model\n",
    "\n",
    "tmp_x = pad(preproc_code_sentences, preproc_plaintext_sentences.shape[1]) \n",
    "tmp_x = tmp_x.reshape((-1, preproc_plaintext_sentences.shape[-2], 1))     "
   ]
  },
  {
   "cell_type": "code",
   "execution_count": 16,
   "metadata": {
    "colab": {
     "base_uri": "https://localhost:8080/"
    },
    "id": "yOCnrOcnd1-8",
    "outputId": "e9ed1e68-9923-49c0-fe27-7fc6040b24cc"
   },
   "outputs": [
    {
     "data": {
      "text/plain": [
       "(120000, 20, 1)"
      ]
     },
     "execution_count": 16,
     "metadata": {},
     "output_type": "execute_result"
    }
   ],
   "source": [
    "tmp_x.shape"
   ]
  },
  {
   "cell_type": "code",
   "execution_count": 17,
   "metadata": {
    "colab": {
     "base_uri": "https://localhost:8080/"
    },
    "id": "dBuB49pZd1-9",
    "outputId": "5e165d21-0165-42bb-c5e2-e9bad83454ba"
   },
   "outputs": [
    {
     "name": "stdout",
     "output_type": "stream",
     "text": [
      "Model: \"model\"\n",
      "_________________________________________________________________\n",
      "Layer (type)                 Output Shape              Param #   \n",
      "=================================================================\n",
      "input_1 (InputLayer)         [(None, 20, 1)]           0         \n",
      "_________________________________________________________________\n",
      "Layer1 (LSTM)                (None, 20, 128)           66560     \n",
      "_________________________________________________________________\n",
      "Layer2 (LSTM)                (None, 20, 128)           131584    \n",
      "_________________________________________________________________\n",
      "time_distributed (TimeDistri (None, 20, 51)            6579      \n",
      "=================================================================\n",
      "Total params: 204,723\n",
      "Trainable params: 204,723\n",
      "Non-trainable params: 0\n",
      "_________________________________________________________________\n"
     ]
    }
   ],
   "source": [
    "lstm_model = lstm(\n",
    "    tmp_x.shape,\n",
    "    preproc_plaintext_sentences.shape[1],\n",
    "    len(code_tokenizer.word_index)+1,\n",
    "    len(plaintext_tokenizer.word_index)+1)"
   ]
  },
  {
   "cell_type": "code",
   "execution_count": 18,
   "metadata": {
    "colab": {
     "base_uri": "https://localhost:8080/"
    },
    "id": "AGK61DACd1-9",
    "outputId": "6059e2f6-bcf3-4b3a-c4c0-81656b9a336f"
   },
   "outputs": [
    {
     "name": "stdout",
     "output_type": "stream",
     "text": [
      "Epoch 1/15\n",
      "165/165 [==============================] - 20s 23ms/step - loss: 2.0352 - accuracy: 0.5530 - val_loss: 1.5529 - val_accuracy: 0.5847\n",
      "Epoch 2/15\n",
      "165/165 [==============================] - 3s 16ms/step - loss: 1.5276 - accuracy: 0.5869 - val_loss: 1.4815 - val_accuracy: 0.5896\n",
      "Epoch 3/15\n",
      "165/165 [==============================] - 3s 16ms/step - loss: 1.4665 - accuracy: 0.5934 - val_loss: 1.4481 - val_accuracy: 0.5934\n",
      "Epoch 4/15\n",
      "165/165 [==============================] - 3s 16ms/step - loss: 1.4397 - accuracy: 0.5952 - val_loss: 1.4382 - val_accuracy: 0.5966\n",
      "Epoch 5/15\n",
      "165/165 [==============================] - 3s 16ms/step - loss: 1.4208 - accuracy: 0.5983 - val_loss: 1.4160 - val_accuracy: 0.5960\n",
      "Epoch 6/15\n",
      "165/165 [==============================] - 3s 16ms/step - loss: 1.4079 - accuracy: 0.5999 - val_loss: 1.4080 - val_accuracy: 0.5989\n",
      "Epoch 7/15\n",
      "165/165 [==============================] - 3s 16ms/step - loss: 1.4016 - accuracy: 0.6014 - val_loss: 1.3981 - val_accuracy: 0.6019\n",
      "Epoch 8/15\n",
      "165/165 [==============================] - 3s 16ms/step - loss: 1.3909 - accuracy: 0.6034 - val_loss: 1.3907 - val_accuracy: 0.6028\n",
      "Epoch 9/15\n",
      "165/165 [==============================] - 3s 16ms/step - loss: 1.3853 - accuracy: 0.6041 - val_loss: 1.3862 - val_accuracy: 0.6028\n",
      "Epoch 10/15\n",
      "165/165 [==============================] - 3s 16ms/step - loss: 1.3799 - accuracy: 0.6048 - val_loss: 1.3817 - val_accuracy: 0.6035\n",
      "Epoch 11/15\n",
      "165/165 [==============================] - 3s 16ms/step - loss: 1.3746 - accuracy: 0.6057 - val_loss: 1.3721 - val_accuracy: 0.6058\n",
      "Epoch 12/15\n",
      "165/165 [==============================] - 3s 16ms/step - loss: 1.3659 - accuracy: 0.6063 - val_loss: 1.3657 - val_accuracy: 0.6065\n",
      "Epoch 13/15\n",
      "165/165 [==============================] - 3s 16ms/step - loss: 1.3632 - accuracy: 0.6067 - val_loss: 1.3599 - val_accuracy: 0.6073\n",
      "Epoch 14/15\n",
      "165/165 [==============================] - 3s 16ms/step - loss: 1.3524 - accuracy: 0.6079 - val_loss: 1.3533 - val_accuracy: 0.6070\n",
      "Epoch 15/15\n",
      "165/165 [==============================] - 3s 16ms/step - loss: 1.3469 - accuracy: 0.6083 - val_loss: 1.3482 - val_accuracy: 0.6062\n"
     ]
    },
    {
     "data": {
      "text/plain": [
       "<keras.callbacks.History at 0x179e64a2af0>"
      ]
     },
     "execution_count": 18,
     "metadata": {},
     "output_type": "execute_result"
    }
   ],
   "source": [
    "lstm_model.fit(tmp_x, preproc_plaintext_sentences, batch_size=512, epochs=15, validation_split=0.3)"
   ]
  },
  {
   "cell_type": "code",
   "execution_count": 19,
   "metadata": {},
   "outputs": [],
   "source": [
    "def logits_to_text(logits, tokenizer):\n",
    "    index_to_words = {id: word for word, id in tokenizer.word_index.items()}\n",
    "    index_to_words[0] = ''\n",
    "    return ''.join([index_to_words[prediction] for prediction in np.argmax(logits, 1)])\n",
    "\n",
    "def getPred(model, x, n):\n",
    "    print('Predicted\\tActual')\n",
    "    for i in range(n):\n",
    "        print(logits_to_text(model.predict([x[:n]])[i], plaintext_tokenizer), end='\\t')\n",
    "        print(df['Passwords'][i])"
   ]
  },
  {
   "cell_type": "code",
   "execution_count": 20,
   "metadata": {
    "colab": {
     "base_uri": "https://localhost:8080/"
    },
    "id": "4PI9Ypxpd1--",
    "outputId": "18741fa3-e00d-469a-88aa-bb6944e808e3"
   },
   "outputs": [
    {
     "name": "stdout",
     "output_type": "stream",
     "text": [
      "Predicted\tActual\n",
      "0623031609\t2428031609\n",
      "5631050056\t4531040045\n",
      "tivvsasvs1\talmigrana1\n",
      "sssav296\tquiero95\n",
      "gs0922s2\tdoitnow2\n"
     ]
    }
   ],
   "source": [
    "getPred(lstm_model, tmp_x, 5)"
   ]
  },
  {
   "cell_type": "markdown",
   "metadata": {
    "id": "ZF4h-TUXd1-_"
   },
   "source": [
    "# GRU"
   ]
  },
  {
   "cell_type": "code",
   "execution_count": 21,
   "metadata": {
    "id": "zr9DVkOTd1-_"
   },
   "outputs": [],
   "source": [
    "def gru(input_shape, output_sequence_length, code_vocab_size, plaintext_vocab_size):\n",
    "    x = Input(shape=input_shape[1:])   \n",
    "    seq = GRU(units= 128, return_sequences = True, name='Layer1')(x)\n",
    "    seq = GRU(units= 128, return_sequences = True, name='Layer2')(seq)\n",
    "    output = TimeDistributed(Dense(units = plaintext_vocab_size, activation='softmax', name='Layer3'))(seq)\n",
    "    model = Model(inputs = x, outputs = output)\n",
    "    model.compile(optimizer='adam', loss= sparse_categorical_crossentropy, metrics=['accuracy'])\n",
    "    model.summary()\n",
    "    return model"
   ]
  },
  {
   "cell_type": "code",
   "execution_count": 22,
   "metadata": {
    "colab": {
     "base_uri": "https://localhost:8080/"
    },
    "id": "nv3fRkj7d1-_",
    "outputId": "ac22d596-80eb-4d0e-9cfc-090be796cf81"
   },
   "outputs": [
    {
     "name": "stdout",
     "output_type": "stream",
     "text": [
      "Model: \"model_1\"\n",
      "_________________________________________________________________\n",
      "Layer (type)                 Output Shape              Param #   \n",
      "=================================================================\n",
      "input_2 (InputLayer)         [(None, 20, 1)]           0         \n",
      "_________________________________________________________________\n",
      "Layer1 (GRU)                 (None, 20, 128)           50304     \n",
      "_________________________________________________________________\n",
      "Layer2 (GRU)                 (None, 20, 128)           99072     \n",
      "_________________________________________________________________\n",
      "time_distributed_1 (TimeDist (None, 20, 51)            6579      \n",
      "=================================================================\n",
      "Total params: 155,955\n",
      "Trainable params: 155,955\n",
      "Non-trainable params: 0\n",
      "_________________________________________________________________\n"
     ]
    }
   ],
   "source": [
    "gru_model = gru(\n",
    "    tmp_x.shape,\n",
    "    preproc_plaintext_sentences.shape[1],\n",
    "    len(code_tokenizer.word_index)+1,\n",
    "    len(plaintext_tokenizer.word_index)+1)"
   ]
  },
  {
   "cell_type": "code",
   "execution_count": 23,
   "metadata": {
    "colab": {
     "base_uri": "https://localhost:8080/"
    },
    "id": "oVg9KJaad1-_",
    "outputId": "4df6502d-ca0c-42df-869e-89859ed38db2"
   },
   "outputs": [
    {
     "name": "stdout",
     "output_type": "stream",
     "text": [
      "Epoch 1/15\n",
      "165/165 [==============================] - 7s 20ms/step - loss: 2.0319 - accuracy: 0.5571 - val_loss: 1.5188 - val_accuracy: 0.5850\n",
      "Epoch 2/15\n",
      "165/165 [==============================] - 2s 14ms/step - loss: 1.4967 - accuracy: 0.5879 - val_loss: 1.4562 - val_accuracy: 0.5912\n",
      "Epoch 3/15\n",
      "165/165 [==============================] - 2s 14ms/step - loss: 1.4398 - accuracy: 0.5938 - val_loss: 1.4228 - val_accuracy: 0.5936\n",
      "Epoch 4/15\n",
      "165/165 [==============================] - 2s 14ms/step - loss: 1.4120 - accuracy: 0.5972 - val_loss: 1.4016 - val_accuracy: 0.5978\n",
      "Epoch 5/15\n",
      "165/165 [==============================] - 2s 14ms/step - loss: 1.3886 - accuracy: 0.6009 - val_loss: 1.3865 - val_accuracy: 0.6015\n",
      "Epoch 6/15\n",
      "165/165 [==============================] - 2s 14ms/step - loss: 1.3760 - accuracy: 0.6026 - val_loss: 1.3740 - val_accuracy: 0.6008\n",
      "Epoch 7/15\n",
      "165/165 [==============================] - 2s 14ms/step - loss: 1.3629 - accuracy: 0.6045 - val_loss: 1.3606 - val_accuracy: 0.6027\n",
      "Epoch 8/15\n",
      "165/165 [==============================] - 2s 14ms/step - loss: 1.3553 - accuracy: 0.6048 - val_loss: 1.3485 - val_accuracy: 0.6057\n",
      "Epoch 9/15\n",
      "165/165 [==============================] - 2s 14ms/step - loss: 1.3406 - accuracy: 0.6079 - val_loss: 1.3404 - val_accuracy: 0.6056\n",
      "Epoch 10/15\n",
      "165/165 [==============================] - 2s 14ms/step - loss: 1.3326 - accuracy: 0.6079 - val_loss: 1.3303 - val_accuracy: 0.6069\n",
      "Epoch 11/15\n",
      "165/165 [==============================] - 2s 15ms/step - loss: 1.3263 - accuracy: 0.6082 - val_loss: 1.3286 - val_accuracy: 0.6076\n",
      "Epoch 12/15\n",
      "165/165 [==============================] - 2s 14ms/step - loss: 1.3206 - accuracy: 0.6096 - val_loss: 1.3203 - val_accuracy: 0.6086\n",
      "Epoch 13/15\n",
      "165/165 [==============================] - 2s 14ms/step - loss: 1.3141 - accuracy: 0.6110 - val_loss: 1.3174 - val_accuracy: 0.6093\n",
      "Epoch 14/15\n",
      "165/165 [==============================] - 2s 14ms/step - loss: 1.3125 - accuracy: 0.6109 - val_loss: 1.3118 - val_accuracy: 0.6110\n",
      "Epoch 15/15\n",
      "165/165 [==============================] - 2s 14ms/step - loss: 1.3050 - accuracy: 0.6119 - val_loss: 1.3041 - val_accuracy: 0.6126\n"
     ]
    },
    {
     "data": {
      "text/plain": [
       "<keras.callbacks.History at 0x17a9a9bb880>"
      ]
     },
     "execution_count": 23,
     "metadata": {},
     "output_type": "execute_result"
    }
   ],
   "source": [
    "gru_model.fit(tmp_x, preproc_plaintext_sentences, batch_size=512, epochs=15, validation_split=0.3)"
   ]
  },
  {
   "cell_type": "code",
   "execution_count": 24,
   "metadata": {},
   "outputs": [
    {
     "name": "stdout",
     "output_type": "stream",
     "text": [
      "Predicted\tActual\n",
      "0828031509\t2428031609\n",
      "n531030035\t4531040045\n",
      "ozznnzzut1\talmigrana1\n",
      "uznzuu94\tquiero95\n",
      "nuuuzuu2\tdoitnow2\n"
     ]
    }
   ],
   "source": [
    "getPred(gru_model, tmp_x, 5)"
   ]
  }
 ],
 "metadata": {
  "colab": {
   "collapsed_sections": [],
   "name": "Deciphering Code with Character-Level RNN.ipynb",
   "provenance": []
  },
  "kernelspec": {
   "display_name": "Python 3",
   "language": "python",
   "name": "python3"
  },
  "language_info": {
   "codemirror_mode": {
    "name": "ipython",
    "version": 3
   },
   "file_extension": ".py",
   "mimetype": "text/x-python",
   "name": "python",
   "nbconvert_exporter": "python",
   "pygments_lexer": "ipython3",
   "version": "3.8.5"
  }
 },
 "nbformat": 4,
 "nbformat_minor": 1
}
