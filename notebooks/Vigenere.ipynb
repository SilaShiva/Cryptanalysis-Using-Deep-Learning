{
 "cells": [
  {
   "cell_type": "markdown",
   "metadata": {
    "id": "5GSMwZnsd1-u"
   },
   "source": [
    "# Deciphering Code with Character-Level RNN\n",
    "\n",
    "\n",
    "\n"
   ]
  },
  {
   "cell_type": "markdown",
   "metadata": {
    "id": "gOHhumaPBdAk"
   },
   "source": [
    "## Dataset"
   ]
  },
  {
   "cell_type": "code",
   "execution_count": 1,
   "metadata": {},
   "outputs": [],
   "source": [
    "import pandas as pd\n",
    "import numpy as np\n",
    "\n",
    "from keras.preprocessing.text import Tokenizer\n",
    "from keras.preprocessing.sequence import pad_sequences"
   ]
  },
  {
   "cell_type": "code",
   "execution_count": 2,
   "metadata": {
    "scrolled": true
   },
   "outputs": [
    {
     "data": {
      "text/html": [
       "<div>\n",
       "<style scoped>\n",
       "    .dataframe tbody tr th:only-of-type {\n",
       "        vertical-align: middle;\n",
       "    }\n",
       "\n",
       "    .dataframe tbody tr th {\n",
       "        vertical-align: top;\n",
       "    }\n",
       "\n",
       "    .dataframe thead th {\n",
       "        text-align: right;\n",
       "    }\n",
       "</style>\n",
       "<table border=\"1\" class=\"dataframe\">\n",
       "  <thead>\n",
       "    <tr style=\"text-align: right;\">\n",
       "      <th></th>\n",
       "      <th>Passwords</th>\n",
       "      <th>ciphertext</th>\n",
       "      <th>key</th>\n",
       "    </tr>\n",
       "  </thead>\n",
       "  <tbody>\n",
       "    <tr>\n",
       "      <th>0</th>\n",
       "      <td>2428031609</td>\n",
       "      <td>yux6njoswz</td>\n",
       "      <td>6058xqxw</td>\n",
       "    </tr>\n",
       "    <tr>\n",
       "      <th>1</th>\n",
       "      <td>4531040045</td>\n",
       "      <td>x4s5cmclx4</td>\n",
       "      <td>39zemsmv</td>\n",
       "    </tr>\n",
       "    <tr>\n",
       "      <th>2</th>\n",
       "      <td>almigrana1</td>\n",
       "      <td>jjfflk9ijz</td>\n",
       "      <td>j837f395</td>\n",
       "    </tr>\n",
       "    <tr>\n",
       "      <th>3</th>\n",
       "      <td>quiero95</td>\n",
       "      <td>2h5e32dn</td>\n",
       "      <td>mxxamoes</td>\n",
       "    </tr>\n",
       "    <tr>\n",
       "      <th>4</th>\n",
       "      <td>doitnow2</td>\n",
       "      <td>luibyzc7</td>\n",
       "      <td>igasllqf</td>\n",
       "    </tr>\n",
       "    <tr>\n",
       "      <th>...</th>\n",
       "      <td>...</td>\n",
       "      <td>...</td>\n",
       "      <td>...</td>\n",
       "    </tr>\n",
       "    <tr>\n",
       "      <th>199995</th>\n",
       "      <td>dime168</td>\n",
       "      <td>es02coa</td>\n",
       "      <td>bkoylscm</td>\n",
       "    </tr>\n",
       "    <tr>\n",
       "      <th>199996</th>\n",
       "      <td>!l0v3k3v!n</td>\n",
       "      <td>!90iecvx!q</td>\n",
       "      <td>yaxl22cd</td>\n",
       "    </tr>\n",
       "    <tr>\n",
       "      <th>199997</th>\n",
       "      <td>9870tmf05</td>\n",
       "      <td>7pf8j4ad3</td>\n",
       "      <td>8rii0s5n</td>\n",
       "    </tr>\n",
       "    <tr>\n",
       "      <th>199998</th>\n",
       "      <td>CAMILA</td>\n",
       "      <td>wqj7jx</td>\n",
       "      <td>uq7z8xdh</td>\n",
       "    </tr>\n",
       "    <tr>\n",
       "      <th>199999</th>\n",
       "      <td>caren14</td>\n",
       "      <td>v6s6mcd</td>\n",
       "      <td>t6b29lj4</td>\n",
       "    </tr>\n",
       "  </tbody>\n",
       "</table>\n",
       "<p>200000 rows × 3 columns</p>\n",
       "</div>"
      ],
      "text/plain": [
       "         Passwords  ciphertext       key\n",
       "0       2428031609  yux6njoswz  6058xqxw\n",
       "1       4531040045  x4s5cmclx4  39zemsmv\n",
       "2       almigrana1  jjfflk9ijz  j837f395\n",
       "3         quiero95    2h5e32dn  mxxamoes\n",
       "4         doitnow2    luibyzc7  igasllqf\n",
       "...            ...         ...       ...\n",
       "199995     dime168     es02coa  bkoylscm\n",
       "199996  !l0v3k3v!n  !90iecvx!q  yaxl22cd\n",
       "199997   9870tmf05   7pf8j4ad3  8rii0s5n\n",
       "199998      CAMILA      wqj7jx  uq7z8xdh\n",
       "199999     caren14     v6s6mcd  t6b29lj4\n",
       "\n",
       "[200000 rows x 3 columns]"
      ]
     },
     "execution_count": 2,
     "metadata": {},
     "output_type": "execute_result"
    }
   ],
   "source": [
    "df = pd.read_csv('../data/Vigenere.csv')\n",
    "df"
   ]
  },
  {
   "cell_type": "code",
   "execution_count": 3,
   "metadata": {},
   "outputs": [],
   "source": [
    "for i in range(len(df['Passwords'])):\n",
    "    if len(df['Passwords'][i]) > 20:\n",
    "        df.drop(i, axis=0, inplace=True)"
   ]
  },
  {
   "cell_type": "code",
   "execution_count": 4,
   "metadata": {},
   "outputs": [],
   "source": [
    "df = df.dropna()[:120000].reset_index(drop=True)"
   ]
  },
  {
   "cell_type": "code",
   "execution_count": 5,
   "metadata": {},
   "outputs": [
    {
     "data": {
      "text/html": [
       "<div>\n",
       "<style scoped>\n",
       "    .dataframe tbody tr th:only-of-type {\n",
       "        vertical-align: middle;\n",
       "    }\n",
       "\n",
       "    .dataframe tbody tr th {\n",
       "        vertical-align: top;\n",
       "    }\n",
       "\n",
       "    .dataframe thead th {\n",
       "        text-align: right;\n",
       "    }\n",
       "</style>\n",
       "<table border=\"1\" class=\"dataframe\">\n",
       "  <thead>\n",
       "    <tr style=\"text-align: right;\">\n",
       "      <th></th>\n",
       "      <th>Passwords</th>\n",
       "      <th>ciphertext</th>\n",
       "      <th>key</th>\n",
       "    </tr>\n",
       "  </thead>\n",
       "  <tbody>\n",
       "    <tr>\n",
       "      <th>0</th>\n",
       "      <td>2428031609</td>\n",
       "      <td>yux6njoswz</td>\n",
       "      <td>6058xqxw</td>\n",
       "    </tr>\n",
       "    <tr>\n",
       "      <th>1</th>\n",
       "      <td>4531040045</td>\n",
       "      <td>x4s5cmclx4</td>\n",
       "      <td>39zemsmv</td>\n",
       "    </tr>\n",
       "    <tr>\n",
       "      <th>2</th>\n",
       "      <td>almigrana1</td>\n",
       "      <td>jjfflk9ijz</td>\n",
       "      <td>j837f395</td>\n",
       "    </tr>\n",
       "    <tr>\n",
       "      <th>3</th>\n",
       "      <td>quiero95</td>\n",
       "      <td>2h5e32dn</td>\n",
       "      <td>mxxamoes</td>\n",
       "    </tr>\n",
       "    <tr>\n",
       "      <th>4</th>\n",
       "      <td>doitnow2</td>\n",
       "      <td>luibyzc7</td>\n",
       "      <td>igasllqf</td>\n",
       "    </tr>\n",
       "    <tr>\n",
       "      <th>...</th>\n",
       "      <td>...</td>\n",
       "      <td>...</td>\n",
       "      <td>...</td>\n",
       "    </tr>\n",
       "    <tr>\n",
       "      <th>119995</th>\n",
       "      <td>6942498317</td>\n",
       "      <td>qp1r2wbaln</td>\n",
       "      <td>uq7z8xdh</td>\n",
       "    </tr>\n",
       "    <tr>\n",
       "      <th>119996</th>\n",
       "      <td>babycake00</td>\n",
       "      <td>ckpmnsmq1a</td>\n",
       "      <td>bkoylscm</td>\n",
       "    </tr>\n",
       "    <tr>\n",
       "      <th>119997</th>\n",
       "      <td>m91485</td>\n",
       "      <td>ywo4kj</td>\n",
       "      <td>mxxamoes</td>\n",
       "    </tr>\n",
       "    <tr>\n",
       "      <th>119998</th>\n",
       "      <td>5215hooker</td>\n",
       "      <td>e0u2mhnfnp</td>\n",
       "      <td>j837f395</td>\n",
       "    </tr>\n",
       "    <tr>\n",
       "      <th>119999</th>\n",
       "      <td>1549me</td>\n",
       "      <td>34bana</td>\n",
       "      <td>c9hbb6ga</td>\n",
       "    </tr>\n",
       "  </tbody>\n",
       "</table>\n",
       "<p>120000 rows × 3 columns</p>\n",
       "</div>"
      ],
      "text/plain": [
       "         Passwords  ciphertext       key\n",
       "0       2428031609  yux6njoswz  6058xqxw\n",
       "1       4531040045  x4s5cmclx4  39zemsmv\n",
       "2       almigrana1  jjfflk9ijz  j837f395\n",
       "3         quiero95    2h5e32dn  mxxamoes\n",
       "4         doitnow2    luibyzc7  igasllqf\n",
       "...            ...         ...       ...\n",
       "119995  6942498317  qp1r2wbaln  uq7z8xdh\n",
       "119996  babycake00  ckpmnsmq1a  bkoylscm\n",
       "119997      m91485      ywo4kj  mxxamoes\n",
       "119998  5215hooker  e0u2mhnfnp  j837f395\n",
       "119999      1549me      34bana  c9hbb6ga\n",
       "\n",
       "[120000 rows x 3 columns]"
      ]
     },
     "execution_count": 5,
     "metadata": {},
     "output_type": "execute_result"
    }
   ],
   "source": [
    "df['Passwords'].apply(str)\n",
    "df['ciphertext'].apply(str)\n",
    "df"
   ]
  },
  {
   "cell_type": "markdown",
   "metadata": {
    "id": "44T02G-FBNYf"
   },
   "source": [
    "## Preprocessing Data"
   ]
  },
  {
   "cell_type": "code",
   "execution_count": 6,
   "metadata": {
    "colab": {
     "base_uri": "https://localhost:8080/"
    },
    "id": "I9b4vwned1-4",
    "outputId": "a955da71-52ac-4881-e8ed-78d398c47ec9"
   },
   "outputs": [],
   "source": [
    "def tokenize(x):\n",
    "    x_tk = Tokenizer(char_level=True)\n",
    "    x_tk.fit_on_texts(x)                 \n",
    "    return x_tk.texts_to_sequences(x), x_tk\n",
    "\n",
    "def pad(x, length=None):\n",
    "    if length is None:\n",
    "        length = max([len(sentence) for sentence in x])\n",
    "    return pad_sequences(x, maxlen=length, padding=\"post\", truncating=\"post\",)"
   ]
  },
  {
   "cell_type": "markdown",
   "metadata": {
    "id": "fdV69c9gd1-5"
   },
   "source": [
    "### Preprocess Pipeline"
   ]
  },
  {
   "cell_type": "code",
   "execution_count": 7,
   "metadata": {
    "colab": {
     "base_uri": "https://localhost:8080/"
    },
    "id": "uxTxyzCHd1-5",
    "outputId": "3f358e66-7cca-4959-8f96-5b96b818532f"
   },
   "outputs": [],
   "source": [
    "def preprocess(x, y):\n",
    "    preprocess_x, x_tk = tokenize(x)\n",
    "    preprocess_y, y_tk = tokenize(y)\n",
    "\n",
    "    preprocess_x = pad(preprocess_x)\n",
    "    preprocess_y = pad(preprocess_y)\n",
    "\n",
    "    preprocess_y = preprocess_y.reshape(*preprocess_y.shape, 1)\n",
    "\n",
    "    return preprocess_x, preprocess_y, x_tk, y_tk"
   ]
  },
  {
   "cell_type": "code",
   "execution_count": 8,
   "metadata": {},
   "outputs": [],
   "source": [
    "preproc_code_sentences, preproc_plaintext_sentences, code_tokenizer, plaintext_tokenizer = preprocess(df['Passwords'], df['ciphertext'])"
   ]
  },
  {
   "cell_type": "code",
   "execution_count": 9,
   "metadata": {
    "colab": {
     "base_uri": "https://localhost:8080/"
    },
    "id": "-NlbiDf-d1-6",
    "outputId": "21c9cb2e-025e-4032-e29b-8d5a36a6cd4a"
   },
   "outputs": [
    {
     "data": {
      "text/plain": [
       "array([ 7, 17,  7, 15,  5, 13,  3, 19,  5, 12,  0,  0,  0,  0,  0,  0,  0,\n",
       "        0,  0,  0])"
      ]
     },
     "execution_count": 9,
     "metadata": {},
     "output_type": "execute_result"
    }
   ],
   "source": [
    "preproc_code_sentences[0]"
   ]
  },
  {
   "cell_type": "code",
   "execution_count": 10,
   "metadata": {
    "colab": {
     "base_uri": "https://localhost:8080/"
    },
    "id": "CrK0B3ttd1-6",
    "outputId": "86b2b875-ef69-4f0b-f245-62dbf0d7bb3d"
   },
   "outputs": [
    {
     "data": {
      "text/plain": [
       "126"
      ]
     },
     "execution_count": 10,
     "metadata": {},
     "output_type": "execute_result"
    }
   ],
   "source": [
    "len(code_tokenizer.word_index)+1"
   ]
  },
  {
   "cell_type": "code",
   "execution_count": 11,
   "metadata": {
    "colab": {
     "base_uri": "https://localhost:8080/"
    },
    "id": "DRkiK6Qjd1-6",
    "outputId": "a473c0bf-f76d-4689-8884-028a871751b7"
   },
   "outputs": [
    {
     "data": {
      "text/plain": [
       "126"
      ]
     },
     "execution_count": 11,
     "metadata": {},
     "output_type": "execute_result"
    }
   ],
   "source": [
    "len(plaintext_tokenizer.word_index)+1"
   ]
  },
  {
   "cell_type": "code",
   "execution_count": 12,
   "metadata": {
    "colab": {
     "base_uri": "https://localhost:8080/"
    },
    "id": "Hk8HcQtEd1-7",
    "outputId": "e734311c-c349-47d9-c726-ff275f434840"
   },
   "outputs": [
    {
     "data": {
      "text/plain": [
       "{'k': 1,\n",
       " 'o': 2,\n",
       " 'g': 3,\n",
       " 'a': 4,\n",
       " 'e': 5,\n",
       " 'l': 6,\n",
       " 'u': 7,\n",
       " 'y': 8,\n",
       " '5': 9,\n",
       " '9': 10,\n",
       " 'h': 11,\n",
       " '8': 12,\n",
       " 'b': 13,\n",
       " 'n': 14,\n",
       " 'i': 15,\n",
       " '3': 16,\n",
       " 'r': 17,\n",
       " '1': 18,\n",
       " '4': 19,\n",
       " 'd': 20,\n",
       " 'm': 21,\n",
       " 'j': 22,\n",
       " 'c': 23,\n",
       " 'z': 24,\n",
       " '0': 25,\n",
       " 'f': 26,\n",
       " '6': 27,\n",
       " 'x': 28,\n",
       " 'q': 29,\n",
       " 'p': 30,\n",
       " 's': 31,\n",
       " '2': 32,\n",
       " 't': 33,\n",
       " '7': 34,\n",
       " 'v': 35,\n",
       " 'w': 36,\n",
       " '.': 37,\n",
       " '_': 38,\n",
       " '!': 39,\n",
       " '-': 40,\n",
       " '*': 41,\n",
       " '@': 42,\n",
       " ' ': 43,\n",
       " '#': 44,\n",
       " '/': 45,\n",
       " '$': 46,\n",
       " ',': 47,\n",
       " '+': 48,\n",
       " '&': 49,\n",
       " ')': 50,\n",
       " '\\\\': 51,\n",
       " '(': 52,\n",
       " '=': 53,\n",
       " '?': 54,\n",
       " ';': 55,\n",
       " \"'\": 56,\n",
       " ']': 57,\n",
       " 'à': 58,\n",
       " '<': 59,\n",
       " '¸': 60,\n",
       " '%': 61,\n",
       " '~': 62,\n",
       " '[': 63,\n",
       " 'ã': 64,\n",
       " '`': 65,\n",
       " ':': 66,\n",
       " '^': 67,\n",
       " '>': 68,\n",
       " '±': 69,\n",
       " '\"': 70,\n",
       " '|': 71,\n",
       " '×': 72,\n",
       " '{': 73,\n",
       " '¼': 74,\n",
       " 'â': 75,\n",
       " '£': 76,\n",
       " '§': 77,\n",
       " 'ä': 78,\n",
       " '\\x99': 79,\n",
       " '\\x9f': 80,\n",
       " '³': 81,\n",
       " '¹': 82,\n",
       " '\\xa0': 83,\n",
       " '°': 84,\n",
       " '\\x97': 85,\n",
       " '}': 86,\n",
       " '©': 87,\n",
       " '¤': 88,\n",
       " '·': 89,\n",
       " '\\x81': 90,\n",
       " 'î': 91,\n",
       " '\\x84': 92,\n",
       " '¶': 93,\n",
       " 'ï': 94,\n",
       " '\\x88': 95,\n",
       " '²': 96,\n",
       " '\\x96': 97,\n",
       " '¥': 98,\n",
       " '¡': 99,\n",
       " '\\x85': 100,\n",
       " '«': 101,\n",
       " '\\x91': 102,\n",
       " '\\x83': 103,\n",
       " '\\x95': 104,\n",
       " '\\x94': 105,\n",
       " '\\x89': 106,\n",
       " '¢': 107,\n",
       " 'ª': 108,\n",
       " '¨': 109,\n",
       " '\\x93': 110,\n",
       " '\\x9e': 111,\n",
       " 'å': 112,\n",
       " '\\x87': 113,\n",
       " 'ö': 114,\n",
       " '\\x9c': 115,\n",
       " '´': 116,\n",
       " 'á': 117,\n",
       " '»': 118,\n",
       " '\\x8b': 119,\n",
       " '\\x9b': 120,\n",
       " '\\x92': 121,\n",
       " '\\x9d': 122,\n",
       " '\\x82': 123,\n",
       " '¿': 124,\n",
       " '\\xad': 125}"
      ]
     },
     "execution_count": 12,
     "metadata": {},
     "output_type": "execute_result"
    }
   ],
   "source": [
    "plaintext_tokenizer.word_index"
   ]
  },
  {
   "cell_type": "code",
   "execution_count": 13,
   "metadata": {
    "colab": {
     "base_uri": "https://localhost:8080/"
    },
    "id": "PPevgp-id1-7",
    "outputId": "e7085fd4-de9d-4636-a167-3681e52eb0a6"
   },
   "outputs": [
    {
     "data": {
      "text/plain": [
       "(120000, 20)"
      ]
     },
     "execution_count": 13,
     "metadata": {},
     "output_type": "execute_result"
    }
   ],
   "source": [
    "preproc_code_sentences.shape"
   ]
  },
  {
   "cell_type": "code",
   "execution_count": 14,
   "metadata": {
    "colab": {
     "base_uri": "https://localhost:8080/"
    },
    "id": "cxFxFP-Bd1-7",
    "outputId": "f2ae4663-bf7d-4992-ebad-54c974e2b78e"
   },
   "outputs": [
    {
     "data": {
      "text/plain": [
       "(120000, 20, 1)"
      ]
     },
     "execution_count": 14,
     "metadata": {},
     "output_type": "execute_result"
    }
   ],
   "source": [
    "preproc_plaintext_sentences.shape"
   ]
  },
  {
   "cell_type": "markdown",
   "metadata": {
    "id": "sKHZqlXyd1-8"
   },
   "source": [
    "# LSTM"
   ]
  },
  {
   "cell_type": "code",
   "execution_count": 15,
   "metadata": {
    "id": "HnLsrRNZd1-8"
   },
   "outputs": [],
   "source": [
    "from keras.layers import GRU, Input, Dense, TimeDistributed, LSTM\n",
    "from keras.models import Model, Sequential\n",
    "from keras.layers import Activation\n",
    "from tensorflow.keras.optimizers import Adam\n",
    "from keras.losses import sparse_categorical_crossentropy\n",
    "import tensorflow\n",
    "\n",
    "\n",
    "def lstm(input_shape, output_sequence_length, code_vocab_size, plaintext_vocab_size):\n",
    "    x = Input(shape=input_shape[1:])   \n",
    "    seq = LSTM(units= 128, return_sequences = True, name='Layer1')(x)\n",
    "    seq = LSTM(units= 128, return_sequences = True, name='Layer2')(seq)\n",
    "    output = TimeDistributed(Dense(units = plaintext_vocab_size, activation='softmax', name='Layer3'))(seq)\n",
    "    model = Model(inputs = x, outputs = output)\n",
    "    model.compile(optimizer='adam', loss=sparse_categorical_crossentropy, metrics=['accuracy'])\n",
    "    model.summary()\n",
    "    return model\n",
    "\n",
    "tmp_x = pad(preproc_code_sentences, preproc_plaintext_sentences.shape[1]) \n",
    "tmp_x = tmp_x.reshape((-1, preproc_plaintext_sentences.shape[-2], 1))     "
   ]
  },
  {
   "cell_type": "code",
   "execution_count": 16,
   "metadata": {
    "colab": {
     "base_uri": "https://localhost:8080/"
    },
    "id": "yOCnrOcnd1-8",
    "outputId": "e9ed1e68-9923-49c0-fe27-7fc6040b24cc"
   },
   "outputs": [
    {
     "data": {
      "text/plain": [
       "(120000, 20, 1)"
      ]
     },
     "execution_count": 16,
     "metadata": {},
     "output_type": "execute_result"
    }
   ],
   "source": [
    "tmp_x.shape"
   ]
  },
  {
   "cell_type": "code",
   "execution_count": 17,
   "metadata": {
    "colab": {
     "base_uri": "https://localhost:8080/"
    },
    "id": "dBuB49pZd1-9",
    "outputId": "5e165d21-0165-42bb-c5e2-e9bad83454ba"
   },
   "outputs": [
    {
     "name": "stdout",
     "output_type": "stream",
     "text": [
      "Model: \"model\"\n",
      "_________________________________________________________________\n",
      "Layer (type)                 Output Shape              Param #   \n",
      "=================================================================\n",
      "input_1 (InputLayer)         [(None, 20, 1)]           0         \n",
      "_________________________________________________________________\n",
      "Layer1 (LSTM)                (None, 20, 128)           66560     \n",
      "_________________________________________________________________\n",
      "Layer2 (LSTM)                (None, 20, 128)           131584    \n",
      "_________________________________________________________________\n",
      "time_distributed (TimeDistri (None, 20, 126)           16254     \n",
      "=================================================================\n",
      "Total params: 214,398\n",
      "Trainable params: 214,398\n",
      "Non-trainable params: 0\n",
      "_________________________________________________________________\n"
     ]
    }
   ],
   "source": [
    "lstm_model = lstm(\n",
    "    tmp_x.shape,\n",
    "    preproc_plaintext_sentences.shape[1],\n",
    "    len(code_tokenizer.word_index)+1,\n",
    "    len(plaintext_tokenizer.word_index)+1)"
   ]
  },
  {
   "cell_type": "code",
   "execution_count": 18,
   "metadata": {
    "colab": {
     "base_uri": "https://localhost:8080/"
    },
    "id": "AGK61DACd1-9",
    "outputId": "6059e2f6-bcf3-4b3a-c4c0-81656b9a336f"
   },
   "outputs": [
    {
     "name": "stdout",
     "output_type": "stream",
     "text": [
      "Epoch 1/15\n",
      "165/165 [==============================] - 22s 24ms/step - loss: 2.2944 - accuracy: 0.5489 - val_loss: 1.6182 - val_accuracy: 0.5762\n",
      "Epoch 2/15\n",
      "165/165 [==============================] - 3s 18ms/step - loss: 1.6039 - accuracy: 0.5776 - val_loss: 1.5951 - val_accuracy: 0.5783\n",
      "Epoch 3/15\n",
      "165/165 [==============================] - 3s 18ms/step - loss: 1.5886 - accuracy: 0.5782 - val_loss: 1.5842 - val_accuracy: 0.5780\n",
      "Epoch 4/15\n",
      "165/165 [==============================] - 3s 18ms/step - loss: 1.5771 - accuracy: 0.5791 - val_loss: 1.5749 - val_accuracy: 0.5787\n",
      "Epoch 5/15\n",
      "165/165 [==============================] - 3s 18ms/step - loss: 1.5669 - accuracy: 0.5812 - val_loss: 1.5661 - val_accuracy: 0.5799\n",
      "Epoch 6/15\n",
      "165/165 [==============================] - 3s 18ms/step - loss: 1.5594 - accuracy: 0.5819 - val_loss: 1.5594 - val_accuracy: 0.5815\n",
      "Epoch 7/15\n",
      "165/165 [==============================] - 3s 18ms/step - loss: 1.5560 - accuracy: 0.5825 - val_loss: 1.5545 - val_accuracy: 0.5822\n",
      "Epoch 8/15\n",
      "165/165 [==============================] - 3s 19ms/step - loss: 1.5479 - accuracy: 0.5842 - val_loss: 1.5496 - val_accuracy: 0.5829\n",
      "Epoch 9/15\n",
      "165/165 [==============================] - 3s 18ms/step - loss: 1.5428 - accuracy: 0.5851 - val_loss: 1.5464 - val_accuracy: 0.5843\n",
      "Epoch 10/15\n",
      "165/165 [==============================] - 3s 19ms/step - loss: 1.5421 - accuracy: 0.5850 - val_loss: 1.5430 - val_accuracy: 0.5840\n",
      "Epoch 11/15\n",
      "165/165 [==============================] - 3s 19ms/step - loss: 1.5376 - accuracy: 0.5856 - val_loss: 1.5404 - val_accuracy: 0.5845\n",
      "Epoch 12/15\n",
      "165/165 [==============================] - 3s 19ms/step - loss: 1.5344 - accuracy: 0.5862 - val_loss: 1.5367 - val_accuracy: 0.5859\n",
      "Epoch 13/15\n",
      "165/165 [==============================] - 3s 18ms/step - loss: 1.5317 - accuracy: 0.5866 - val_loss: 1.5341 - val_accuracy: 0.5859\n",
      "Epoch 14/15\n",
      "165/165 [==============================] - 3s 18ms/step - loss: 1.5278 - accuracy: 0.5874 - val_loss: 1.5319 - val_accuracy: 0.5858\n",
      "Epoch 15/15\n",
      "165/165 [==============================] - 3s 18ms/step - loss: 1.5255 - accuracy: 0.5876 - val_loss: 1.5289 - val_accuracy: 0.5862\n"
     ]
    },
    {
     "data": {
      "text/plain": [
       "<keras.callbacks.History at 0x13f0d78a550>"
      ]
     },
     "execution_count": 18,
     "metadata": {},
     "output_type": "execute_result"
    }
   ],
   "source": [
    "lstm_model.fit(tmp_x, preproc_plaintext_sentences, batch_size=512, epochs=15, validation_split=0.3)"
   ]
  },
  {
   "cell_type": "code",
   "execution_count": 19,
   "metadata": {},
   "outputs": [],
   "source": [
    "def logits_to_text(logits, tokenizer):\n",
    "    index_to_words = {id: word for word, id in tokenizer.word_index.items()}\n",
    "    index_to_words[0] = ''\n",
    "    return ''.join([index_to_words[prediction] for prediction in np.argmax(logits, 1)])\n",
    "\n",
    "def getPred(model, x, n):\n",
    "    print('Predicted\\tActual')\n",
    "    for i in range(n):\n",
    "        print(logits_to_text(model.predict([x[:n]])[i], plaintext_tokenizer), end='\\t')\n",
    "        print(df['Passwords'][i])"
   ]
  },
  {
   "cell_type": "code",
   "execution_count": 20,
   "metadata": {
    "colab": {
     "base_uri": "https://localhost:8080/"
    },
    "id": "4PI9Ypxpd1--",
    "outputId": "18741fa3-e00d-469a-88aa-bb6944e808e3",
    "scrolled": true
   },
   "outputs": [
    {
     "name": "stdout",
     "output_type": "stream",
     "text": [
      "Predicted\tActual\n",
      "b4e9tkigik\t2428031609\n",
      "4nt1tkiigr\t4531040045\n",
      "jbt0iks5sw\talmigrana1\n",
      "dnb135kn\tquiero95\n",
      "deb9kzve\tdoitnow2\n"
     ]
    }
   ],
   "source": [
    "getPred(lstm_model, tmp_x, 5)"
   ]
  },
  {
   "cell_type": "markdown",
   "metadata": {
    "id": "ZF4h-TUXd1-_"
   },
   "source": [
    "# GRU"
   ]
  },
  {
   "cell_type": "code",
   "execution_count": 21,
   "metadata": {
    "id": "zr9DVkOTd1-_"
   },
   "outputs": [],
   "source": [
    "def gru(input_shape, output_sequence_length, code_vocab_size, plaintext_vocab_size):\n",
    "    x = Input(shape=input_shape[1:])   \n",
    "    seq = GRU(units= 128, return_sequences = True, name='Layer1')(x)\n",
    "    seq = GRU(units= 128, return_sequences = True, name='Layer2')(seq)\n",
    "    output = TimeDistributed(Dense(units = plaintext_vocab_size, activation='softmax', name='Layer3'))(seq)\n",
    "    model = Model(inputs = x, outputs = output)\n",
    "    model.compile(optimizer='adam', loss= sparse_categorical_crossentropy, metrics=['accuracy'])\n",
    "    model.summary()\n",
    "    return model"
   ]
  },
  {
   "cell_type": "code",
   "execution_count": 22,
   "metadata": {
    "colab": {
     "base_uri": "https://localhost:8080/"
    },
    "id": "nv3fRkj7d1-_",
    "outputId": "ac22d596-80eb-4d0e-9cfc-090be796cf81"
   },
   "outputs": [
    {
     "name": "stdout",
     "output_type": "stream",
     "text": [
      "Model: \"model_1\"\n",
      "_________________________________________________________________\n",
      "Layer (type)                 Output Shape              Param #   \n",
      "=================================================================\n",
      "input_2 (InputLayer)         [(None, 20, 1)]           0         \n",
      "_________________________________________________________________\n",
      "Layer1 (GRU)                 (None, 20, 128)           50304     \n",
      "_________________________________________________________________\n",
      "Layer2 (GRU)                 (None, 20, 128)           99072     \n",
      "_________________________________________________________________\n",
      "time_distributed_1 (TimeDist (None, 20, 126)           16254     \n",
      "=================================================================\n",
      "Total params: 165,630\n",
      "Trainable params: 165,630\n",
      "Non-trainable params: 0\n",
      "_________________________________________________________________\n"
     ]
    }
   ],
   "source": [
    "gru_model = gru(\n",
    "    tmp_x.shape,\n",
    "    preproc_plaintext_sentences.shape[1],\n",
    "    len(code_tokenizer.word_index)+1,\n",
    "    len(plaintext_tokenizer.word_index)+1)"
   ]
  },
  {
   "cell_type": "code",
   "execution_count": 23,
   "metadata": {
    "colab": {
     "base_uri": "https://localhost:8080/"
    },
    "id": "oVg9KJaad1-_",
    "outputId": "4df6502d-ca0c-42df-869e-89859ed38db2"
   },
   "outputs": [
    {
     "name": "stdout",
     "output_type": "stream",
     "text": [
      "Epoch 1/15\n",
      "165/165 [==============================] - 7s 21ms/step - loss: 2.2630 - accuracy: 0.5515 - val_loss: 1.6036 - val_accuracy: 0.5768\n",
      "Epoch 2/15\n",
      "165/165 [==============================] - 3s 16ms/step - loss: 1.5944 - accuracy: 0.5773 - val_loss: 1.5886 - val_accuracy: 0.5770\n",
      "Epoch 3/15\n",
      "165/165 [==============================] - 3s 16ms/step - loss: 1.5812 - accuracy: 0.5791 - val_loss: 1.5823 - val_accuracy: 0.5785\n",
      "Epoch 4/15\n",
      "165/165 [==============================] - 3s 16ms/step - loss: 1.5752 - accuracy: 0.5810 - val_loss: 1.5755 - val_accuracy: 0.5799\n",
      "Epoch 5/15\n",
      "165/165 [==============================] - 3s 16ms/step - loss: 1.5657 - accuracy: 0.5826 - val_loss: 1.5630 - val_accuracy: 0.5822\n",
      "Epoch 6/15\n",
      "165/165 [==============================] - 3s 16ms/step - loss: 1.5563 - accuracy: 0.5831 - val_loss: 1.5528 - val_accuracy: 0.5829\n",
      "Epoch 7/15\n",
      "165/165 [==============================] - 3s 16ms/step - loss: 1.5469 - accuracy: 0.5843 - val_loss: 1.5482 - val_accuracy: 0.5826\n",
      "Epoch 8/15\n",
      "165/165 [==============================] - 3s 16ms/step - loss: 1.5427 - accuracy: 0.5842 - val_loss: 1.5430 - val_accuracy: 0.5847\n",
      "Epoch 9/15\n",
      "165/165 [==============================] - 3s 17ms/step - loss: 1.5393 - accuracy: 0.5851 - val_loss: 1.5397 - val_accuracy: 0.5846\n",
      "Epoch 10/15\n",
      "165/165 [==============================] - 3s 16ms/step - loss: 1.5339 - accuracy: 0.5860 - val_loss: 1.5355 - val_accuracy: 0.5867\n",
      "Epoch 11/15\n",
      "165/165 [==============================] - 3s 16ms/step - loss: 1.5277 - accuracy: 0.5876 - val_loss: 1.5319 - val_accuracy: 0.5875\n",
      "Epoch 12/15\n",
      "165/165 [==============================] - 3s 16ms/step - loss: 1.5279 - accuracy: 0.5874 - val_loss: 1.5276 - val_accuracy: 0.5871\n",
      "Epoch 13/15\n",
      "165/165 [==============================] - 3s 16ms/step - loss: 1.5241 - accuracy: 0.5879 - val_loss: 1.5243 - val_accuracy: 0.5883\n",
      "Epoch 14/15\n",
      "165/165 [==============================] - 3s 16ms/step - loss: 1.5182 - accuracy: 0.5895 - val_loss: 1.5210 - val_accuracy: 0.5877\n",
      "Epoch 15/15\n",
      "165/165 [==============================] - 3s 16ms/step - loss: 1.5175 - accuracy: 0.5892 - val_loss: 1.5186 - val_accuracy: 0.5877\n"
     ]
    },
    {
     "data": {
      "text/plain": [
       "<keras.callbacks.History at 0x1400e59e8b0>"
      ]
     },
     "execution_count": 23,
     "metadata": {},
     "output_type": "execute_result"
    }
   ],
   "source": [
    "gru_model.fit(tmp_x, preproc_plaintext_sentences, batch_size=512, epochs=15, validation_split=0.3)"
   ]
  },
  {
   "cell_type": "code",
   "execution_count": 24,
   "metadata": {},
   "outputs": [
    {
     "name": "stdout",
     "output_type": "stream",
     "text": [
      "Predicted\tActual\n",
      "b4p9t3j909\t2428031609\n",
      "44tct30099\t4531040045\n",
      "j9t0h3s3sj\talmigrana1\n",
      "7hbq3g99\tquiero95\n",
      "4ubt3g79\tdoitnow2\n"
     ]
    }
   ],
   "source": [
    "getPred(gru_model, tmp_x, 5)"
   ]
  }
 ],
 "metadata": {
  "colab": {
   "collapsed_sections": [],
   "name": "Deciphering Code with Character-Level RNN.ipynb",
   "provenance": []
  },
  "kernelspec": {
   "display_name": "Python 3",
   "language": "python",
   "name": "python3"
  },
  "language_info": {
   "codemirror_mode": {
    "name": "ipython",
    "version": 3
   },
   "file_extension": ".py",
   "mimetype": "text/x-python",
   "name": "python",
   "nbconvert_exporter": "python",
   "pygments_lexer": "ipython3",
   "version": "3.8.5"
  }
 },
 "nbformat": 4,
 "nbformat_minor": 1
}
