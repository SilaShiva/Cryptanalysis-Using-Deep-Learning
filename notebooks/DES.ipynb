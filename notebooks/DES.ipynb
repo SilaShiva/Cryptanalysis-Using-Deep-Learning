{
 "cells": [
  {
   "cell_type": "markdown",
   "metadata": {
    "id": "5GSMwZnsd1-u"
   },
   "source": [
    "# Deciphering Code with Character-Level RNN\n",
    "\n",
    "\n",
    "\n"
   ]
  },
  {
   "cell_type": "markdown",
   "metadata": {
    "id": "gOHhumaPBdAk"
   },
   "source": [
    "## Dataset"
   ]
  },
  {
   "cell_type": "code",
   "execution_count": 1,
   "metadata": {},
   "outputs": [],
   "source": [
    "import pandas as pd\n",
    "import numpy as np\n",
    "\n",
    "from keras.preprocessing.text import Tokenizer\n",
    "from keras.preprocessing.sequence import pad_sequences"
   ]
  },
  {
   "cell_type": "code",
   "execution_count": 2,
   "metadata": {
    "scrolled": true
   },
   "outputs": [
    {
     "data": {
      "text/html": [
       "<div>\n",
       "<style scoped>\n",
       "    .dataframe tbody tr th:only-of-type {\n",
       "        vertical-align: middle;\n",
       "    }\n",
       "\n",
       "    .dataframe tbody tr th {\n",
       "        vertical-align: top;\n",
       "    }\n",
       "\n",
       "    .dataframe thead th {\n",
       "        text-align: right;\n",
       "    }\n",
       "</style>\n",
       "<table border=\"1\" class=\"dataframe\">\n",
       "  <thead>\n",
       "    <tr style=\"text-align: right;\">\n",
       "      <th></th>\n",
       "      <th>Passwords</th>\n",
       "      <th>ciphertext</th>\n",
       "      <th>key</th>\n",
       "    </tr>\n",
       "  </thead>\n",
       "  <tbody>\n",
       "    <tr>\n",
       "      <th>0</th>\n",
       "      <td>2428031609</td>\n",
       "      <td>6960043906fcfa4152225d4cbeed92c9</td>\n",
       "      <td>C5SZWCOV</td>\n",
       "    </tr>\n",
       "    <tr>\n",
       "      <th>1</th>\n",
       "      <td>4531040045</td>\n",
       "      <td>bdbffdd0a1df14090eec745de30a3c0b</td>\n",
       "      <td>KFD7SI1Q</td>\n",
       "    </tr>\n",
       "    <tr>\n",
       "      <th>2</th>\n",
       "      <td>almigrana1</td>\n",
       "      <td>ad65ac507a1184ceb9a42afc48482a9f</td>\n",
       "      <td>KFD7SI1Q</td>\n",
       "    </tr>\n",
       "    <tr>\n",
       "      <th>3</th>\n",
       "      <td>quiero95</td>\n",
       "      <td>8b812dcbced662658507d26dfea58f83</td>\n",
       "      <td>CFJT97ZI</td>\n",
       "    </tr>\n",
       "    <tr>\n",
       "      <th>4</th>\n",
       "      <td>doitnow2</td>\n",
       "      <td>590c4cce603fc18346b266f4d0805116</td>\n",
       "      <td>40H2ETAQ</td>\n",
       "    </tr>\n",
       "    <tr>\n",
       "      <th>...</th>\n",
       "      <td>...</td>\n",
       "      <td>...</td>\n",
       "      <td>...</td>\n",
       "    </tr>\n",
       "    <tr>\n",
       "      <th>199995</th>\n",
       "      <td>dime168</td>\n",
       "      <td>b0e07c1a6af86c4c</td>\n",
       "      <td>Q0GM6RKL</td>\n",
       "    </tr>\n",
       "    <tr>\n",
       "      <th>199996</th>\n",
       "      <td>!l0v3k3v!n</td>\n",
       "      <td>45820d4b54019ec2eca8361c510392d3</td>\n",
       "      <td>1V3YX0JE</td>\n",
       "    </tr>\n",
       "    <tr>\n",
       "      <th>199997</th>\n",
       "      <td>9870tmf05</td>\n",
       "      <td>f8a9a57f8b5e5843c94911676c7151f3</td>\n",
       "      <td>KFD7SI1Q</td>\n",
       "    </tr>\n",
       "    <tr>\n",
       "      <th>199998</th>\n",
       "      <td>CAMILA</td>\n",
       "      <td>cceedf72faf67106</td>\n",
       "      <td>Y7HFVYA2</td>\n",
       "    </tr>\n",
       "    <tr>\n",
       "      <th>199999</th>\n",
       "      <td>caren14</td>\n",
       "      <td>2947f0675fd2bad2</td>\n",
       "      <td>Y7HFVYA2</td>\n",
       "    </tr>\n",
       "  </tbody>\n",
       "</table>\n",
       "<p>200000 rows × 3 columns</p>\n",
       "</div>"
      ],
      "text/plain": [
       "         Passwords                        ciphertext       key\n",
       "0       2428031609  6960043906fcfa4152225d4cbeed92c9  C5SZWCOV\n",
       "1       4531040045  bdbffdd0a1df14090eec745de30a3c0b  KFD7SI1Q\n",
       "2       almigrana1  ad65ac507a1184ceb9a42afc48482a9f  KFD7SI1Q\n",
       "3         quiero95  8b812dcbced662658507d26dfea58f83  CFJT97ZI\n",
       "4         doitnow2  590c4cce603fc18346b266f4d0805116  40H2ETAQ\n",
       "...            ...                               ...       ...\n",
       "199995     dime168                  b0e07c1a6af86c4c  Q0GM6RKL\n",
       "199996  !l0v3k3v!n  45820d4b54019ec2eca8361c510392d3  1V3YX0JE\n",
       "199997   9870tmf05  f8a9a57f8b5e5843c94911676c7151f3  KFD7SI1Q\n",
       "199998      CAMILA                  cceedf72faf67106  Y7HFVYA2\n",
       "199999     caren14                  2947f0675fd2bad2  Y7HFVYA2\n",
       "\n",
       "[200000 rows x 3 columns]"
      ]
     },
     "execution_count": 2,
     "metadata": {},
     "output_type": "execute_result"
    }
   ],
   "source": [
    "df = pd.read_csv('../data/DES.csv')\n",
    "df"
   ]
  },
  {
   "cell_type": "code",
   "execution_count": 3,
   "metadata": {},
   "outputs": [],
   "source": [
    "for i in range(len(df['Passwords'])):\n",
    "    if len(df['Passwords'][i]) > 20:\n",
    "        df.drop(i, axis=0, inplace=True)"
   ]
  },
  {
   "cell_type": "code",
   "execution_count": 4,
   "metadata": {},
   "outputs": [],
   "source": [
    "df = df.dropna()[:120000].reset_index(drop=True)"
   ]
  },
  {
   "cell_type": "code",
   "execution_count": 5,
   "metadata": {},
   "outputs": [
    {
     "data": {
      "text/html": [
       "<div>\n",
       "<style scoped>\n",
       "    .dataframe tbody tr th:only-of-type {\n",
       "        vertical-align: middle;\n",
       "    }\n",
       "\n",
       "    .dataframe tbody tr th {\n",
       "        vertical-align: top;\n",
       "    }\n",
       "\n",
       "    .dataframe thead th {\n",
       "        text-align: right;\n",
       "    }\n",
       "</style>\n",
       "<table border=\"1\" class=\"dataframe\">\n",
       "  <thead>\n",
       "    <tr style=\"text-align: right;\">\n",
       "      <th></th>\n",
       "      <th>Passwords</th>\n",
       "      <th>ciphertext</th>\n",
       "      <th>key</th>\n",
       "    </tr>\n",
       "  </thead>\n",
       "  <tbody>\n",
       "    <tr>\n",
       "      <th>0</th>\n",
       "      <td>2428031609</td>\n",
       "      <td>6960043906fcfa4152225d4cbeed92c9</td>\n",
       "      <td>C5SZWCOV</td>\n",
       "    </tr>\n",
       "    <tr>\n",
       "      <th>1</th>\n",
       "      <td>4531040045</td>\n",
       "      <td>bdbffdd0a1df14090eec745de30a3c0b</td>\n",
       "      <td>KFD7SI1Q</td>\n",
       "    </tr>\n",
       "    <tr>\n",
       "      <th>2</th>\n",
       "      <td>almigrana1</td>\n",
       "      <td>ad65ac507a1184ceb9a42afc48482a9f</td>\n",
       "      <td>KFD7SI1Q</td>\n",
       "    </tr>\n",
       "    <tr>\n",
       "      <th>3</th>\n",
       "      <td>quiero95</td>\n",
       "      <td>8b812dcbced662658507d26dfea58f83</td>\n",
       "      <td>CFJT97ZI</td>\n",
       "    </tr>\n",
       "    <tr>\n",
       "      <th>4</th>\n",
       "      <td>doitnow2</td>\n",
       "      <td>590c4cce603fc18346b266f4d0805116</td>\n",
       "      <td>40H2ETAQ</td>\n",
       "    </tr>\n",
       "    <tr>\n",
       "      <th>...</th>\n",
       "      <td>...</td>\n",
       "      <td>...</td>\n",
       "      <td>...</td>\n",
       "    </tr>\n",
       "    <tr>\n",
       "      <th>119995</th>\n",
       "      <td>6942498317</td>\n",
       "      <td>4f0c7a76a5375695210c5bc15fa7929f</td>\n",
       "      <td>D36HDVGV</td>\n",
       "    </tr>\n",
       "    <tr>\n",
       "      <th>119996</th>\n",
       "      <td>babycake00</td>\n",
       "      <td>7eac1a57a3e4e0a20e3be95ef52359b6</td>\n",
       "      <td>Y7HFVYA2</td>\n",
       "    </tr>\n",
       "    <tr>\n",
       "      <th>119997</th>\n",
       "      <td>m91485</td>\n",
       "      <td>576a4cff2974059e</td>\n",
       "      <td>87I3XHJV</td>\n",
       "    </tr>\n",
       "    <tr>\n",
       "      <th>119998</th>\n",
       "      <td>5215hooker</td>\n",
       "      <td>92d76b6a186238d0ef447d18a9ada7e1</td>\n",
       "      <td>GN4Z7EAC</td>\n",
       "    </tr>\n",
       "    <tr>\n",
       "      <th>119999</th>\n",
       "      <td>1549me</td>\n",
       "      <td>0220d7eb98deb67e</td>\n",
       "      <td>Y7HFVYA2</td>\n",
       "    </tr>\n",
       "  </tbody>\n",
       "</table>\n",
       "<p>120000 rows × 3 columns</p>\n",
       "</div>"
      ],
      "text/plain": [
       "         Passwords                        ciphertext       key\n",
       "0       2428031609  6960043906fcfa4152225d4cbeed92c9  C5SZWCOV\n",
       "1       4531040045  bdbffdd0a1df14090eec745de30a3c0b  KFD7SI1Q\n",
       "2       almigrana1  ad65ac507a1184ceb9a42afc48482a9f  KFD7SI1Q\n",
       "3         quiero95  8b812dcbced662658507d26dfea58f83  CFJT97ZI\n",
       "4         doitnow2  590c4cce603fc18346b266f4d0805116  40H2ETAQ\n",
       "...            ...                               ...       ...\n",
       "119995  6942498317  4f0c7a76a5375695210c5bc15fa7929f  D36HDVGV\n",
       "119996  babycake00  7eac1a57a3e4e0a20e3be95ef52359b6  Y7HFVYA2\n",
       "119997      m91485                  576a4cff2974059e  87I3XHJV\n",
       "119998  5215hooker  92d76b6a186238d0ef447d18a9ada7e1  GN4Z7EAC\n",
       "119999      1549me                  0220d7eb98deb67e  Y7HFVYA2\n",
       "\n",
       "[120000 rows x 3 columns]"
      ]
     },
     "execution_count": 5,
     "metadata": {},
     "output_type": "execute_result"
    }
   ],
   "source": [
    "df['Passwords'].apply(str)\n",
    "df['ciphertext'].apply(str)\n",
    "df"
   ]
  },
  {
   "cell_type": "markdown",
   "metadata": {
    "id": "44T02G-FBNYf"
   },
   "source": [
    "## Preprocessing Data"
   ]
  },
  {
   "cell_type": "code",
   "execution_count": 6,
   "metadata": {
    "colab": {
     "base_uri": "https://localhost:8080/"
    },
    "id": "I9b4vwned1-4",
    "outputId": "a955da71-52ac-4881-e8ed-78d398c47ec9"
   },
   "outputs": [],
   "source": [
    "def tokenize(x):\n",
    "    x_tk = Tokenizer(char_level=True)\n",
    "    x_tk.fit_on_texts(x)                 \n",
    "    return x_tk.texts_to_sequences(x), x_tk\n",
    "\n",
    "def pad(x, length=None):\n",
    "    if length is None:\n",
    "        length = max([len(sentence) for sentence in x])\n",
    "    return pad_sequences(x, maxlen=length, padding=\"post\", truncating=\"post\",)"
   ]
  },
  {
   "cell_type": "markdown",
   "metadata": {
    "id": "fdV69c9gd1-5"
   },
   "source": [
    "### Preprocess Pipeline"
   ]
  },
  {
   "cell_type": "code",
   "execution_count": 7,
   "metadata": {
    "colab": {
     "base_uri": "https://localhost:8080/"
    },
    "id": "uxTxyzCHd1-5",
    "outputId": "3f358e66-7cca-4959-8f96-5b96b818532f"
   },
   "outputs": [],
   "source": [
    "def preprocess(x, y):\n",
    "    preprocess_x, x_tk = tokenize(x)\n",
    "    preprocess_y, y_tk = tokenize(y)\n",
    "\n",
    "    preprocess_x = pad(preprocess_x)\n",
    "    preprocess_y = pad(preprocess_y)\n",
    "\n",
    "    preprocess_y = preprocess_y.reshape(*preprocess_y.shape, 1)\n",
    "\n",
    "    return preprocess_x, preprocess_y, x_tk, y_tk"
   ]
  },
  {
   "cell_type": "code",
   "execution_count": 8,
   "metadata": {},
   "outputs": [],
   "source": [
    "preproc_code_sentences, preproc_plaintext_sentences, code_tokenizer, plaintext_tokenizer = preprocess(df['Passwords'], df['ciphertext'])"
   ]
  },
  {
   "cell_type": "code",
   "execution_count": 9,
   "metadata": {
    "colab": {
     "base_uri": "https://localhost:8080/"
    },
    "id": "-NlbiDf-d1-6",
    "outputId": "21c9cb2e-025e-4032-e29b-8d5a36a6cd4a"
   },
   "outputs": [
    {
     "data": {
      "text/plain": [
       "array([ 7, 17,  7, 15,  5, 13,  3, 19,  5, 12,  0,  0,  0,  0,  0,  0,  0,\n",
       "        0,  0,  0])"
      ]
     },
     "execution_count": 9,
     "metadata": {},
     "output_type": "execute_result"
    }
   ],
   "source": [
    "preproc_code_sentences[0]"
   ]
  },
  {
   "cell_type": "code",
   "execution_count": 10,
   "metadata": {
    "colab": {
     "base_uri": "https://localhost:8080/"
    },
    "id": "CrK0B3ttd1-6",
    "outputId": "86b2b875-ef69-4f0b-f245-62dbf0d7bb3d"
   },
   "outputs": [
    {
     "data": {
      "text/plain": [
       "126"
      ]
     },
     "execution_count": 10,
     "metadata": {},
     "output_type": "execute_result"
    }
   ],
   "source": [
    "len(code_tokenizer.word_index)+1"
   ]
  },
  {
   "cell_type": "code",
   "execution_count": 11,
   "metadata": {
    "colab": {
     "base_uri": "https://localhost:8080/"
    },
    "id": "DRkiK6Qjd1-6",
    "outputId": "a473c0bf-f76d-4689-8884-028a871751b7"
   },
   "outputs": [
    {
     "data": {
      "text/plain": [
       "17"
      ]
     },
     "execution_count": 11,
     "metadata": {},
     "output_type": "execute_result"
    }
   ],
   "source": [
    "len(plaintext_tokenizer.word_index)+1"
   ]
  },
  {
   "cell_type": "code",
   "execution_count": 12,
   "metadata": {
    "colab": {
     "base_uri": "https://localhost:8080/"
    },
    "id": "Hk8HcQtEd1-7",
    "outputId": "e734311c-c349-47d9-c726-ff275f434840"
   },
   "outputs": [
    {
     "data": {
      "text/plain": [
       "{'5': 1,\n",
       " 'd': 2,\n",
       " '0': 3,\n",
       " 'c': 4,\n",
       " '6': 5,\n",
       " '9': 6,\n",
       " '4': 7,\n",
       " '7': 8,\n",
       " '3': 9,\n",
       " 'e': 10,\n",
       " 'b': 11,\n",
       " '1': 12,\n",
       " 'a': 13,\n",
       " '2': 14,\n",
       " '8': 15,\n",
       " 'f': 16}"
      ]
     },
     "execution_count": 12,
     "metadata": {},
     "output_type": "execute_result"
    }
   ],
   "source": [
    "plaintext_tokenizer.word_index"
   ]
  },
  {
   "cell_type": "code",
   "execution_count": 13,
   "metadata": {
    "colab": {
     "base_uri": "https://localhost:8080/"
    },
    "id": "PPevgp-id1-7",
    "outputId": "e7085fd4-de9d-4636-a167-3681e52eb0a6"
   },
   "outputs": [
    {
     "data": {
      "text/plain": [
       "(120000, 20)"
      ]
     },
     "execution_count": 13,
     "metadata": {},
     "output_type": "execute_result"
    }
   ],
   "source": [
    "preproc_code_sentences.shape"
   ]
  },
  {
   "cell_type": "code",
   "execution_count": 14,
   "metadata": {
    "colab": {
     "base_uri": "https://localhost:8080/"
    },
    "id": "cxFxFP-Bd1-7",
    "outputId": "f2ae4663-bf7d-4992-ebad-54c974e2b78e"
   },
   "outputs": [
    {
     "data": {
      "text/plain": [
       "(120000, 64, 1)"
      ]
     },
     "execution_count": 14,
     "metadata": {},
     "output_type": "execute_result"
    }
   ],
   "source": [
    "preproc_plaintext_sentences.shape"
   ]
  },
  {
   "cell_type": "markdown",
   "metadata": {
    "id": "sKHZqlXyd1-8"
   },
   "source": [
    "# LSTM"
   ]
  },
  {
   "cell_type": "code",
   "execution_count": 15,
   "metadata": {
    "id": "HnLsrRNZd1-8"
   },
   "outputs": [],
   "source": [
    "from keras.layers import GRU, Input, Dense, TimeDistributed, LSTM\n",
    "from keras.models import Model, Sequential\n",
    "from keras.layers import Activation\n",
    "from tensorflow.keras.optimizers import Adam\n",
    "from keras.losses import sparse_categorical_crossentropy\n",
    "import tensorflow\n",
    "\n",
    "\n",
    "def lstm(input_shape, output_sequence_length, code_vocab_size, plaintext_vocab_size):\n",
    "    x = Input(shape=input_shape[1:])   \n",
    "    seq = LSTM(units= 128, return_sequences = True, name='Layer1')(x)\n",
    "    seq = LSTM(units= 128, return_sequences = True, name='Layer2')(seq)\n",
    "    output = TimeDistributed(Dense(units = plaintext_vocab_size, activation='softmax', name='Layer3'))(seq)\n",
    "    model = Model(inputs = x, outputs = output)\n",
    "    model.compile(optimizer='adam', loss=sparse_categorical_crossentropy, metrics=['accuracy'])\n",
    "    model.summary()\n",
    "    return model\n",
    "\n",
    "tmp_x = pad(preproc_code_sentences, preproc_plaintext_sentences.shape[1]) \n",
    "tmp_x = tmp_x.reshape((-1, preproc_plaintext_sentences.shape[-2], 1))     "
   ]
  },
  {
   "cell_type": "code",
   "execution_count": 16,
   "metadata": {
    "colab": {
     "base_uri": "https://localhost:8080/"
    },
    "id": "yOCnrOcnd1-8",
    "outputId": "e9ed1e68-9923-49c0-fe27-7fc6040b24cc"
   },
   "outputs": [
    {
     "data": {
      "text/plain": [
       "(120000, 64, 1)"
      ]
     },
     "execution_count": 16,
     "metadata": {},
     "output_type": "execute_result"
    }
   ],
   "source": [
    "tmp_x.shape"
   ]
  },
  {
   "cell_type": "code",
   "execution_count": 17,
   "metadata": {
    "colab": {
     "base_uri": "https://localhost:8080/"
    },
    "id": "dBuB49pZd1-9",
    "outputId": "5e165d21-0165-42bb-c5e2-e9bad83454ba"
   },
   "outputs": [
    {
     "name": "stdout",
     "output_type": "stream",
     "text": [
      "Model: \"model\"\n",
      "_________________________________________________________________\n",
      "Layer (type)                 Output Shape              Param #   \n",
      "=================================================================\n",
      "input_1 (InputLayer)         [(None, 64, 1)]           0         \n",
      "_________________________________________________________________\n",
      "Layer1 (LSTM)                (None, 64, 128)           66560     \n",
      "_________________________________________________________________\n",
      "Layer2 (LSTM)                (None, 64, 128)           131584    \n",
      "_________________________________________________________________\n",
      "time_distributed (TimeDistri (None, 64, 17)            2193      \n",
      "=================================================================\n",
      "Total params: 200,337\n",
      "Trainable params: 200,337\n",
      "Non-trainable params: 0\n",
      "_________________________________________________________________\n"
     ]
    }
   ],
   "source": [
    "lstm_model = lstm(\n",
    "    tmp_x.shape,\n",
    "    preproc_plaintext_sentences.shape[1],\n",
    "    len(code_tokenizer.word_index)+1,\n",
    "    len(plaintext_tokenizer.word_index)+1)"
   ]
  },
  {
   "cell_type": "code",
   "execution_count": 18,
   "metadata": {
    "colab": {
     "base_uri": "https://localhost:8080/"
    },
    "id": "AGK61DACd1-9",
    "outputId": "6059e2f6-bcf3-4b3a-c4c0-81656b9a336f"
   },
   "outputs": [
    {
     "name": "stdout",
     "output_type": "stream",
     "text": [
      "Epoch 1/15\n",
      "165/165 [==============================] - 30s 74ms/step - loss: 1.5784 - accuracy: 0.5737 - val_loss: 1.3063 - val_accuracy: 0.5959\n",
      "Epoch 2/15\n",
      "165/165 [==============================] - 11s 69ms/step - loss: 1.2652 - accuracy: 0.5990 - val_loss: 1.3847 - val_accuracy: 0.5697\n",
      "Epoch 3/15\n",
      "165/165 [==============================] - 12s 70ms/step - loss: 1.2553 - accuracy: 0.5986 - val_loss: 1.2120 - val_accuracy: 0.6023\n",
      "Epoch 4/15\n",
      "165/165 [==============================] - 11s 70ms/step - loss: 1.2052 - accuracy: 0.6027 - val_loss: 1.2976 - val_accuracy: 0.5948\n",
      "Epoch 5/15\n",
      "165/165 [==============================] - 12s 70ms/step - loss: 1.2318 - accuracy: 0.6004 - val_loss: 1.1842 - val_accuracy: 0.6032\n",
      "Epoch 6/15\n",
      "165/165 [==============================] - 12s 70ms/step - loss: 1.1895 - accuracy: 0.6035 - val_loss: 1.1807 - val_accuracy: 0.6033\n",
      "Epoch 7/15\n",
      "165/165 [==============================] - 12s 71ms/step - loss: 1.1762 - accuracy: 0.6044 - val_loss: 1.1767 - val_accuracy: 0.6039\n",
      "Epoch 8/15\n",
      "165/165 [==============================] - 12s 70ms/step - loss: 1.2048 - accuracy: 0.6024 - val_loss: 1.1809 - val_accuracy: 0.6032\n",
      "Epoch 9/15\n",
      "165/165 [==============================] - 12s 70ms/step - loss: 1.1769 - accuracy: 0.6041 - val_loss: 1.1815 - val_accuracy: 0.6040\n",
      "Epoch 10/15\n",
      "165/165 [==============================] - 12s 71ms/step - loss: 1.1742 - accuracy: 0.6048 - val_loss: 1.1741 - val_accuracy: 0.6039\n",
      "Epoch 11/15\n",
      "165/165 [==============================] - 12s 70ms/step - loss: 1.1776 - accuracy: 0.6042 - val_loss: 1.2864 - val_accuracy: 0.5952\n",
      "Epoch 12/15\n",
      "165/165 [==============================] - 12s 71ms/step - loss: 1.2424 - accuracy: 0.5990 - val_loss: 1.1903 - val_accuracy: 0.6031\n",
      "Epoch 13/15\n",
      "165/165 [==============================] - 12s 71ms/step - loss: 1.1987 - accuracy: 0.6026 - val_loss: 1.1907 - val_accuracy: 0.6031\n",
      "Epoch 14/15\n",
      "165/165 [==============================] - 12s 71ms/step - loss: 1.1837 - accuracy: 0.6036 - val_loss: 1.1835 - val_accuracy: 0.6035\n",
      "Epoch 15/15\n",
      "165/165 [==============================] - 12s 71ms/step - loss: 1.1742 - accuracy: 0.6045 - val_loss: 1.1734 - val_accuracy: 0.6045\n"
     ]
    },
    {
     "data": {
      "text/plain": [
       "<keras.callbacks.History at 0x155a3b71df0>"
      ]
     },
     "execution_count": 18,
     "metadata": {},
     "output_type": "execute_result"
    }
   ],
   "source": [
    "lstm_model.fit(tmp_x, preproc_plaintext_sentences, batch_size=512, epochs=15, validation_split=0.3)"
   ]
  },
  {
   "cell_type": "code",
   "execution_count": 25,
   "metadata": {},
   "outputs": [],
   "source": [
    "def logits_to_text(logits, tokenizer):\n",
    "    index_to_words = {id: word for word, id in tokenizer.word_index.items()}\n",
    "    index_to_words[0] = ''\n",
    "    return ''.join([index_to_words[prediction] for prediction in np.argmax(logits, 1)])\n",
    "\n",
    "def getPred(model, x, n):\n",
    "    print('Predicted\\t\\t\\t\\tActual')\n",
    "    for i in range(n):\n",
    "        print(logits_to_text(model.predict([x[:n]])[i], plaintext_tokenizer), end='\\t')\n",
    "        print(df['Passwords'][i])"
   ]
  },
  {
   "cell_type": "code",
   "execution_count": 26,
   "metadata": {
    "colab": {
     "base_uri": "https://localhost:8080/"
    },
    "id": "4PI9Ypxpd1--",
    "outputId": "18741fa3-e00d-469a-88aa-bb6944e808e3"
   },
   "outputs": [
    {
     "name": "stdout",
     "output_type": "stream",
     "text": [
      "Predicted\t\t\t\tActual\n",
      "b0441cadda3deebde555cccceeeeeeec\t2428031609\n",
      "2da919cdda9deebde555cccceeeeeeec\t4531040045\n",
      "47053ccad8cdee7d9555cccceeeeeeec\talmigrana1\n",
      "33ac12cddc1de5c99aaaeeeeeeeeee5c\tquiero95\n",
      "3b491fcddc1de5c99aaaeeeeeeeeee5c\tdoitnow2\n"
     ]
    }
   ],
   "source": [
    "getPred(lstm_model, tmp_x, 5)"
   ]
  },
  {
   "cell_type": "markdown",
   "metadata": {
    "id": "ZF4h-TUXd1-_"
   },
   "source": [
    "# GRU"
   ]
  },
  {
   "cell_type": "code",
   "execution_count": 21,
   "metadata": {
    "id": "zr9DVkOTd1-_"
   },
   "outputs": [],
   "source": [
    "def gru(input_shape, output_sequence_length, code_vocab_size, plaintext_vocab_size):\n",
    "    x = Input(shape=input_shape[1:])   \n",
    "    seq = GRU(units= 128, return_sequences = True, name='Layer1')(x)\n",
    "    seq = GRU(units= 128, return_sequences = True, name='Layer2')(seq)\n",
    "    output = TimeDistributed(Dense(units = plaintext_vocab_size, activation='softmax', name='Layer3'))(seq)\n",
    "    model = Model(inputs = x, outputs = output)\n",
    "    model.compile(optimizer='adam', loss= sparse_categorical_crossentropy, metrics=['accuracy'])\n",
    "    model.summary()\n",
    "    return model"
   ]
  },
  {
   "cell_type": "code",
   "execution_count": 22,
   "metadata": {
    "colab": {
     "base_uri": "https://localhost:8080/"
    },
    "id": "nv3fRkj7d1-_",
    "outputId": "ac22d596-80eb-4d0e-9cfc-090be796cf81"
   },
   "outputs": [
    {
     "name": "stdout",
     "output_type": "stream",
     "text": [
      "Model: \"model_1\"\n",
      "_________________________________________________________________\n",
      "Layer (type)                 Output Shape              Param #   \n",
      "=================================================================\n",
      "input_2 (InputLayer)         [(None, 64, 1)]           0         \n",
      "_________________________________________________________________\n",
      "Layer1 (GRU)                 (None, 64, 128)           50304     \n",
      "_________________________________________________________________\n",
      "Layer2 (GRU)                 (None, 64, 128)           99072     \n",
      "_________________________________________________________________\n",
      "time_distributed_1 (TimeDist (None, 64, 17)            2193      \n",
      "=================================================================\n",
      "Total params: 151,569\n",
      "Trainable params: 151,569\n",
      "Non-trainable params: 0\n",
      "_________________________________________________________________\n"
     ]
    }
   ],
   "source": [
    "gru_model = gru(\n",
    "    tmp_x.shape,\n",
    "    preproc_plaintext_sentences.shape[1],\n",
    "    len(code_tokenizer.word_index)+1,\n",
    "    len(plaintext_tokenizer.word_index)+1)"
   ]
  },
  {
   "cell_type": "code",
   "execution_count": 23,
   "metadata": {
    "colab": {
     "base_uri": "https://localhost:8080/"
    },
    "id": "oVg9KJaad1-_",
    "outputId": "4df6502d-ca0c-42df-869e-89859ed38db2"
   },
   "outputs": [
    {
     "name": "stdout",
     "output_type": "stream",
     "text": [
      "Epoch 1/15\n",
      "165/165 [==============================] - 14s 66ms/step - loss: 1.6975 - accuracy: 0.5877 - val_loss: 1.2962 - val_accuracy: 0.5956\n",
      "Epoch 2/15\n",
      "165/165 [==============================] - 10s 62ms/step - loss: 1.2685 - accuracy: 0.5983 - val_loss: 1.2875 - val_accuracy: 0.5974\n",
      "Epoch 3/15\n",
      "165/165 [==============================] - 10s 61ms/step - loss: 1.2411 - accuracy: 0.5995 - val_loss: 1.2457 - val_accuracy: 0.5988\n",
      "Epoch 4/15\n",
      "165/165 [==============================] - 10s 62ms/step - loss: 1.2192 - accuracy: 0.6010 - val_loss: 1.2016 - val_accuracy: 0.6027\n",
      "Epoch 5/15\n",
      "165/165 [==============================] - 10s 62ms/step - loss: 1.1962 - accuracy: 0.6034 - val_loss: 1.3937 - val_accuracy: 0.5988\n",
      "Epoch 6/15\n",
      "165/165 [==============================] - 10s 62ms/step - loss: 1.2099 - accuracy: 0.6021 - val_loss: 1.1788 - val_accuracy: 0.6041\n",
      "Epoch 7/15\n",
      "165/165 [==============================] - 10s 61ms/step - loss: 1.2004 - accuracy: 0.6028 - val_loss: 1.3185 - val_accuracy: 0.5949\n",
      "Epoch 8/15\n",
      "165/165 [==============================] - 10s 61ms/step - loss: 1.2675 - accuracy: 0.5979 - val_loss: 1.2067 - val_accuracy: 0.6024\n",
      "Epoch 9/15\n",
      "165/165 [==============================] - 10s 62ms/step - loss: 1.1944 - accuracy: 0.6040 - val_loss: 1.1847 - val_accuracy: 0.6035\n",
      "Epoch 10/15\n",
      "165/165 [==============================] - 10s 62ms/step - loss: 1.1798 - accuracy: 0.6044 - val_loss: 1.2337 - val_accuracy: 0.6023\n",
      "Epoch 11/15\n",
      "165/165 [==============================] - 10s 62ms/step - loss: 1.3645 - accuracy: 0.5906 - val_loss: 1.2293 - val_accuracy: 0.5976\n",
      "Epoch 12/15\n",
      "165/165 [==============================] - 10s 62ms/step - loss: 1.2039 - accuracy: 0.6024 - val_loss: 1.1794 - val_accuracy: 0.6037\n",
      "Epoch 13/15\n",
      "165/165 [==============================] - 10s 61ms/step - loss: 1.1737 - accuracy: 0.6049 - val_loss: 1.1748 - val_accuracy: 0.6039\n",
      "Epoch 14/15\n",
      "165/165 [==============================] - 10s 62ms/step - loss: 1.1712 - accuracy: 0.6052 - val_loss: 1.1727 - val_accuracy: 0.6042\n",
      "Epoch 15/15\n",
      "165/165 [==============================] - 10s 62ms/step - loss: 1.1707 - accuracy: 0.6049 - val_loss: 1.1732 - val_accuracy: 0.6042\n"
     ]
    },
    {
     "data": {
      "text/plain": [
       "<keras.callbacks.History at 0x156821d3e50>"
      ]
     },
     "execution_count": 23,
     "metadata": {},
     "output_type": "execute_result"
    }
   ],
   "source": [
    "gru_model.fit(tmp_x, preproc_plaintext_sentences, batch_size=512, epochs=15, validation_split=0.3)"
   ]
  },
  {
   "cell_type": "code",
   "execution_count": 27,
   "metadata": {},
   "outputs": [
    {
     "name": "stdout",
     "output_type": "stream",
     "text": [
      "Predicted\t\t\t\tActual\n",
      "00eee444000bb444407777770033d32d\t2428031609\n",
      "0ee044bb000bb440007777770033d32d\t4531040045\n",
      "700e044b4004b4444777777700333334\talmigrana1\n",
      "000000004044ee40d00dd3333333aa34\tquiero95\n",
      "0400040000eee117d00dd3333333aa34\tdoitnow2\n"
     ]
    }
   ],
   "source": [
    "getPred(gru_model, tmp_x, 5)"
   ]
  }
 ],
 "metadata": {
  "colab": {
   "collapsed_sections": [],
   "name": "Deciphering Code with Character-Level RNN.ipynb",
   "provenance": []
  },
  "kernelspec": {
   "display_name": "Python 3",
   "language": "python",
   "name": "python3"
  },
  "language_info": {
   "codemirror_mode": {
    "name": "ipython",
    "version": 3
   },
   "file_extension": ".py",
   "mimetype": "text/x-python",
   "name": "python",
   "nbconvert_exporter": "python",
   "pygments_lexer": "ipython3",
   "version": "3.8.5"
  }
 },
 "nbformat": 4,
 "nbformat_minor": 1
}
