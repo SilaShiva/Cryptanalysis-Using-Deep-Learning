{
 "cells": [
  {
   "cell_type": "markdown",
   "metadata": {
    "id": "5GSMwZnsd1-u"
   },
   "source": [
    "# Deciphering Code with Character-Level RNN\n",
    "\n",
    "\n",
    "\n"
   ]
  },
  {
   "cell_type": "markdown",
   "metadata": {
    "id": "gOHhumaPBdAk"
   },
   "source": [
    "## Dataset"
   ]
  },
  {
   "cell_type": "code",
   "execution_count": 1,
   "metadata": {},
   "outputs": [],
   "source": [
    "import pandas as pd\n",
    "import numpy as np\n",
    "\n",
    "from keras.preprocessing.text import Tokenizer\n",
    "from keras.preprocessing.sequence import pad_sequences"
   ]
  },
  {
   "cell_type": "code",
   "execution_count": 2,
   "metadata": {
    "scrolled": true
   },
   "outputs": [
    {
     "data": {
      "text/html": [
       "<div>\n",
       "<style scoped>\n",
       "    .dataframe tbody tr th:only-of-type {\n",
       "        vertical-align: middle;\n",
       "    }\n",
       "\n",
       "    .dataframe tbody tr th {\n",
       "        vertical-align: top;\n",
       "    }\n",
       "\n",
       "    .dataframe thead th {\n",
       "        text-align: right;\n",
       "    }\n",
       "</style>\n",
       "<table border=\"1\" class=\"dataframe\">\n",
       "  <thead>\n",
       "    <tr style=\"text-align: right;\">\n",
       "      <th></th>\n",
       "      <th>Passwords</th>\n",
       "      <th>ciphertext</th>\n",
       "      <th>key</th>\n",
       "    </tr>\n",
       "  </thead>\n",
       "  <tbody>\n",
       "    <tr>\n",
       "      <th>0</th>\n",
       "      <td>2428031609</td>\n",
       "      <td>b'1092675125059b44fa88'</td>\n",
       "      <td>ZDBQ7O9F</td>\n",
       "    </tr>\n",
       "    <tr>\n",
       "      <th>1</th>\n",
       "      <td>4531040045</td>\n",
       "      <td>b'1e26ffabe380c3d0c299'</td>\n",
       "      <td>NO9EDSU0</td>\n",
       "    </tr>\n",
       "    <tr>\n",
       "      <th>2</th>\n",
       "      <td>almigrana1</td>\n",
       "      <td>b'2259ed1d208cca75004d'</td>\n",
       "      <td>4XS7R110</td>\n",
       "    </tr>\n",
       "    <tr>\n",
       "      <th>3</th>\n",
       "      <td>quiero95</td>\n",
       "      <td>b'16194b66fbca0eee'</td>\n",
       "      <td>BMZPZLBH</td>\n",
       "    </tr>\n",
       "    <tr>\n",
       "      <th>4</th>\n",
       "      <td>doitnow2</td>\n",
       "      <td>b'fab56cb16f5cd504'</td>\n",
       "      <td>19RM3TPZ</td>\n",
       "    </tr>\n",
       "    <tr>\n",
       "      <th>...</th>\n",
       "      <td>...</td>\n",
       "      <td>...</td>\n",
       "      <td>...</td>\n",
       "    </tr>\n",
       "    <tr>\n",
       "      <th>199995</th>\n",
       "      <td>dime168</td>\n",
       "      <td>b'ee2b9cf4479a64'</td>\n",
       "      <td>E68PIJK0</td>\n",
       "    </tr>\n",
       "    <tr>\n",
       "      <th>199996</th>\n",
       "      <td>!l0v3k3v!n</td>\n",
       "      <td>b'e56a59f153590322ed74'</td>\n",
       "      <td>REKBYL0P</td>\n",
       "    </tr>\n",
       "    <tr>\n",
       "      <th>199997</th>\n",
       "      <td>9870tmf05</td>\n",
       "      <td>b'0faaf9b73bc5bc9940'</td>\n",
       "      <td>3QJZBLJP</td>\n",
       "    </tr>\n",
       "    <tr>\n",
       "      <th>199998</th>\n",
       "      <td>CAMILA</td>\n",
       "      <td>b'a451626f19cb'</td>\n",
       "      <td>SOMFMV7Q</td>\n",
       "    </tr>\n",
       "    <tr>\n",
       "      <th>199999</th>\n",
       "      <td>caren14</td>\n",
       "      <td>b'2054f21129cf9f'</td>\n",
       "      <td>4XS7R110</td>\n",
       "    </tr>\n",
       "  </tbody>\n",
       "</table>\n",
       "<p>200000 rows × 3 columns</p>\n",
       "</div>"
      ],
      "text/plain": [
       "         Passwords               ciphertext       key\n",
       "0       2428031609  b'1092675125059b44fa88'  ZDBQ7O9F\n",
       "1       4531040045  b'1e26ffabe380c3d0c299'  NO9EDSU0\n",
       "2       almigrana1  b'2259ed1d208cca75004d'  4XS7R110\n",
       "3         quiero95      b'16194b66fbca0eee'  BMZPZLBH\n",
       "4         doitnow2      b'fab56cb16f5cd504'  19RM3TPZ\n",
       "...            ...                      ...       ...\n",
       "199995     dime168        b'ee2b9cf4479a64'  E68PIJK0\n",
       "199996  !l0v3k3v!n  b'e56a59f153590322ed74'  REKBYL0P\n",
       "199997   9870tmf05    b'0faaf9b73bc5bc9940'  3QJZBLJP\n",
       "199998      CAMILA          b'a451626f19cb'  SOMFMV7Q\n",
       "199999     caren14        b'2054f21129cf9f'  4XS7R110\n",
       "\n",
       "[200000 rows x 3 columns]"
      ]
     },
     "execution_count": 2,
     "metadata": {},
     "output_type": "execute_result"
    }
   ],
   "source": [
    "df = pd.read_csv('../data/AES.csv')\n",
    "df"
   ]
  },
  {
   "cell_type": "code",
   "execution_count": 3,
   "metadata": {},
   "outputs": [],
   "source": [
    "for i in range(len(df['Passwords'])):\n",
    "    if len(df['Passwords'][i]) > 20:\n",
    "        df.drop(i, axis=0, inplace=True)"
   ]
  },
  {
   "cell_type": "code",
   "execution_count": 4,
   "metadata": {},
   "outputs": [],
   "source": [
    "df = df.dropna()[:60000].reset_index(drop=True)"
   ]
  },
  {
   "cell_type": "code",
   "execution_count": 5,
   "metadata": {},
   "outputs": [
    {
     "data": {
      "text/html": [
       "<div>\n",
       "<style scoped>\n",
       "    .dataframe tbody tr th:only-of-type {\n",
       "        vertical-align: middle;\n",
       "    }\n",
       "\n",
       "    .dataframe tbody tr th {\n",
       "        vertical-align: top;\n",
       "    }\n",
       "\n",
       "    .dataframe thead th {\n",
       "        text-align: right;\n",
       "    }\n",
       "</style>\n",
       "<table border=\"1\" class=\"dataframe\">\n",
       "  <thead>\n",
       "    <tr style=\"text-align: right;\">\n",
       "      <th></th>\n",
       "      <th>Passwords</th>\n",
       "      <th>ciphertext</th>\n",
       "      <th>key</th>\n",
       "    </tr>\n",
       "  </thead>\n",
       "  <tbody>\n",
       "    <tr>\n",
       "      <th>0</th>\n",
       "      <td>2428031609</td>\n",
       "      <td>b'1092675125059b44fa88'</td>\n",
       "      <td>ZDBQ7O9F</td>\n",
       "    </tr>\n",
       "    <tr>\n",
       "      <th>1</th>\n",
       "      <td>4531040045</td>\n",
       "      <td>b'1e26ffabe380c3d0c299'</td>\n",
       "      <td>NO9EDSU0</td>\n",
       "    </tr>\n",
       "    <tr>\n",
       "      <th>2</th>\n",
       "      <td>almigrana1</td>\n",
       "      <td>b'2259ed1d208cca75004d'</td>\n",
       "      <td>4XS7R110</td>\n",
       "    </tr>\n",
       "    <tr>\n",
       "      <th>3</th>\n",
       "      <td>quiero95</td>\n",
       "      <td>b'16194b66fbca0eee'</td>\n",
       "      <td>BMZPZLBH</td>\n",
       "    </tr>\n",
       "    <tr>\n",
       "      <th>4</th>\n",
       "      <td>doitnow2</td>\n",
       "      <td>b'fab56cb16f5cd504'</td>\n",
       "      <td>19RM3TPZ</td>\n",
       "    </tr>\n",
       "    <tr>\n",
       "      <th>...</th>\n",
       "      <td>...</td>\n",
       "      <td>...</td>\n",
       "      <td>...</td>\n",
       "    </tr>\n",
       "    <tr>\n",
       "      <th>59995</th>\n",
       "      <td>ayp081204</td>\n",
       "      <td>b'4b6abcaaeb85c1d0c2'</td>\n",
       "      <td>NO9EDSU0</td>\n",
       "    </tr>\n",
       "    <tr>\n",
       "      <th>59996</th>\n",
       "      <td>vtec1500</td>\n",
       "      <td>b'54d2300a24039a42'</td>\n",
       "      <td>ZDBQ7O9F</td>\n",
       "    </tr>\n",
       "    <tr>\n",
       "      <th>59997</th>\n",
       "      <td>hothick17</td>\n",
       "      <td>b'5efdbaef26cbb19842'</td>\n",
       "      <td>3QJZBLJP</td>\n",
       "    </tr>\n",
       "    <tr>\n",
       "      <th>59998</th>\n",
       "      <td>9778hcfg</td>\n",
       "      <td>b'de27181e3de976e2'</td>\n",
       "      <td>SOMFMV7Q</td>\n",
       "    </tr>\n",
       "    <tr>\n",
       "      <th>59999</th>\n",
       "      <td>nelly460</td>\n",
       "      <td>b'f14235053cb93a19'</td>\n",
       "      <td>N2C957EO</td>\n",
       "    </tr>\n",
       "  </tbody>\n",
       "</table>\n",
       "<p>60000 rows × 3 columns</p>\n",
       "</div>"
      ],
      "text/plain": [
       "        Passwords               ciphertext       key\n",
       "0      2428031609  b'1092675125059b44fa88'  ZDBQ7O9F\n",
       "1      4531040045  b'1e26ffabe380c3d0c299'  NO9EDSU0\n",
       "2      almigrana1  b'2259ed1d208cca75004d'  4XS7R110\n",
       "3        quiero95      b'16194b66fbca0eee'  BMZPZLBH\n",
       "4        doitnow2      b'fab56cb16f5cd504'  19RM3TPZ\n",
       "...           ...                      ...       ...\n",
       "59995   ayp081204    b'4b6abcaaeb85c1d0c2'  NO9EDSU0\n",
       "59996    vtec1500      b'54d2300a24039a42'  ZDBQ7O9F\n",
       "59997   hothick17    b'5efdbaef26cbb19842'  3QJZBLJP\n",
       "59998    9778hcfg      b'de27181e3de976e2'  SOMFMV7Q\n",
       "59999    nelly460      b'f14235053cb93a19'  N2C957EO\n",
       "\n",
       "[60000 rows x 3 columns]"
      ]
     },
     "execution_count": 5,
     "metadata": {},
     "output_type": "execute_result"
    }
   ],
   "source": [
    "df['Passwords'].apply(str)\n",
    "df['ciphertext'].apply(str)\n",
    "df"
   ]
  },
  {
   "cell_type": "code",
   "execution_count": 6,
   "metadata": {},
   "outputs": [
    {
     "data": {
      "text/html": [
       "<div>\n",
       "<style scoped>\n",
       "    .dataframe tbody tr th:only-of-type {\n",
       "        vertical-align: middle;\n",
       "    }\n",
       "\n",
       "    .dataframe tbody tr th {\n",
       "        vertical-align: top;\n",
       "    }\n",
       "\n",
       "    .dataframe thead th {\n",
       "        text-align: right;\n",
       "    }\n",
       "</style>\n",
       "<table border=\"1\" class=\"dataframe\">\n",
       "  <thead>\n",
       "    <tr style=\"text-align: right;\">\n",
       "      <th></th>\n",
       "      <th>Passwords</th>\n",
       "      <th>ciphertext</th>\n",
       "      <th>key</th>\n",
       "    </tr>\n",
       "  </thead>\n",
       "  <tbody>\n",
       "    <tr>\n",
       "      <th>0</th>\n",
       "      <td>2428031609</td>\n",
       "      <td>1092675125059b44fa88</td>\n",
       "      <td>ZDBQ7O9F</td>\n",
       "    </tr>\n",
       "    <tr>\n",
       "      <th>1</th>\n",
       "      <td>4531040045</td>\n",
       "      <td>1e26ffabe380c3d0c299</td>\n",
       "      <td>NO9EDSU0</td>\n",
       "    </tr>\n",
       "    <tr>\n",
       "      <th>2</th>\n",
       "      <td>almigrana1</td>\n",
       "      <td>2259ed1d208cca75004d</td>\n",
       "      <td>4XS7R110</td>\n",
       "    </tr>\n",
       "    <tr>\n",
       "      <th>3</th>\n",
       "      <td>quiero95</td>\n",
       "      <td>16194b66fbca0eee</td>\n",
       "      <td>BMZPZLBH</td>\n",
       "    </tr>\n",
       "    <tr>\n",
       "      <th>4</th>\n",
       "      <td>doitnow2</td>\n",
       "      <td>fab56cb16f5cd504</td>\n",
       "      <td>19RM3TPZ</td>\n",
       "    </tr>\n",
       "    <tr>\n",
       "      <th>...</th>\n",
       "      <td>...</td>\n",
       "      <td>...</td>\n",
       "      <td>...</td>\n",
       "    </tr>\n",
       "    <tr>\n",
       "      <th>59995</th>\n",
       "      <td>ayp081204</td>\n",
       "      <td>4b6abcaaeb85c1d0c2</td>\n",
       "      <td>NO9EDSU0</td>\n",
       "    </tr>\n",
       "    <tr>\n",
       "      <th>59996</th>\n",
       "      <td>vtec1500</td>\n",
       "      <td>54d2300a24039a42</td>\n",
       "      <td>ZDBQ7O9F</td>\n",
       "    </tr>\n",
       "    <tr>\n",
       "      <th>59997</th>\n",
       "      <td>hothick17</td>\n",
       "      <td>5efdbaef26cbb19842</td>\n",
       "      <td>3QJZBLJP</td>\n",
       "    </tr>\n",
       "    <tr>\n",
       "      <th>59998</th>\n",
       "      <td>9778hcfg</td>\n",
       "      <td>de27181e3de976e2</td>\n",
       "      <td>SOMFMV7Q</td>\n",
       "    </tr>\n",
       "    <tr>\n",
       "      <th>59999</th>\n",
       "      <td>nelly460</td>\n",
       "      <td>f14235053cb93a19</td>\n",
       "      <td>N2C957EO</td>\n",
       "    </tr>\n",
       "  </tbody>\n",
       "</table>\n",
       "<p>60000 rows × 3 columns</p>\n",
       "</div>"
      ],
      "text/plain": [
       "        Passwords            ciphertext       key\n",
       "0      2428031609  1092675125059b44fa88  ZDBQ7O9F\n",
       "1      4531040045  1e26ffabe380c3d0c299  NO9EDSU0\n",
       "2      almigrana1  2259ed1d208cca75004d  4XS7R110\n",
       "3        quiero95      16194b66fbca0eee  BMZPZLBH\n",
       "4        doitnow2      fab56cb16f5cd504  19RM3TPZ\n",
       "...           ...                   ...       ...\n",
       "59995   ayp081204    4b6abcaaeb85c1d0c2  NO9EDSU0\n",
       "59996    vtec1500      54d2300a24039a42  ZDBQ7O9F\n",
       "59997   hothick17    5efdbaef26cbb19842  3QJZBLJP\n",
       "59998    9778hcfg      de27181e3de976e2  SOMFMV7Q\n",
       "59999    nelly460      f14235053cb93a19  N2C957EO\n",
       "\n",
       "[60000 rows x 3 columns]"
      ]
     },
     "execution_count": 6,
     "metadata": {},
     "output_type": "execute_result"
    }
   ],
   "source": [
    "def removeExtra(x):\n",
    "    x = x[2:-1]\n",
    "    return x\n",
    "\n",
    "df['ciphertext'] = df['ciphertext'].apply(lambda x: removeExtra(x))\n",
    "df"
   ]
  },
  {
   "cell_type": "markdown",
   "metadata": {
    "id": "44T02G-FBNYf"
   },
   "source": [
    "## Preprocessing Data"
   ]
  },
  {
   "cell_type": "code",
   "execution_count": 7,
   "metadata": {
    "colab": {
     "base_uri": "https://localhost:8080/"
    },
    "id": "I9b4vwned1-4",
    "outputId": "a955da71-52ac-4881-e8ed-78d398c47ec9"
   },
   "outputs": [],
   "source": [
    "def tokenize(x):\n",
    "    x_tk = Tokenizer(char_level=True)\n",
    "    x_tk.fit_on_texts(x)                 \n",
    "    return x_tk.texts_to_sequences(x), x_tk\n",
    "\n",
    "def pad(x, length=None):\n",
    "    if length is None:\n",
    "        length = max([len(sentence) for sentence in x])\n",
    "    return pad_sequences(x, maxlen=length, padding=\"post\", truncating=\"post\",)"
   ]
  },
  {
   "cell_type": "markdown",
   "metadata": {
    "id": "fdV69c9gd1-5"
   },
   "source": [
    "### Preprocess Pipeline"
   ]
  },
  {
   "cell_type": "code",
   "execution_count": 8,
   "metadata": {
    "colab": {
     "base_uri": "https://localhost:8080/"
    },
    "id": "uxTxyzCHd1-5",
    "outputId": "3f358e66-7cca-4959-8f96-5b96b818532f"
   },
   "outputs": [],
   "source": [
    "def preprocess(x, y):\n",
    "    preprocess_x, x_tk = tokenize(x)\n",
    "    preprocess_y, y_tk = tokenize(y)\n",
    "\n",
    "    preprocess_x = pad(preprocess_x)\n",
    "    preprocess_y = pad(preprocess_y)\n",
    "\n",
    "    preprocess_y = preprocess_y.reshape(*preprocess_y.shape, 1)\n",
    "\n",
    "    return preprocess_x, preprocess_y, x_tk, y_tk"
   ]
  },
  {
   "cell_type": "code",
   "execution_count": 9,
   "metadata": {},
   "outputs": [],
   "source": [
    "preproc_code_sentences, preproc_plaintext_sentences, code_tokenizer, plaintext_tokenizer = preprocess(df['Passwords'], df['ciphertext'])"
   ]
  },
  {
   "cell_type": "code",
   "execution_count": 10,
   "metadata": {
    "colab": {
     "base_uri": "https://localhost:8080/"
    },
    "id": "-NlbiDf-d1-6",
    "outputId": "21c9cb2e-025e-4032-e29b-8d5a36a6cd4a"
   },
   "outputs": [
    {
     "data": {
      "text/plain": [
       "array([ 7, 16,  7, 15,  5, 13,  3, 19,  5, 12,  0,  0,  0,  0,  0,  0,  0,\n",
       "        0,  0,  0])"
      ]
     },
     "execution_count": 10,
     "metadata": {},
     "output_type": "execute_result"
    }
   ],
   "source": [
    "preproc_code_sentences[0]"
   ]
  },
  {
   "cell_type": "code",
   "execution_count": 11,
   "metadata": {
    "colab": {
     "base_uri": "https://localhost:8080/"
    },
    "id": "CrK0B3ttd1-6",
    "outputId": "86b2b875-ef69-4f0b-f245-62dbf0d7bb3d"
   },
   "outputs": [
    {
     "data": {
      "text/plain": [
       "110"
      ]
     },
     "execution_count": 11,
     "metadata": {},
     "output_type": "execute_result"
    }
   ],
   "source": [
    "len(code_tokenizer.word_index)+1"
   ]
  },
  {
   "cell_type": "code",
   "execution_count": 12,
   "metadata": {
    "colab": {
     "base_uri": "https://localhost:8080/"
    },
    "id": "DRkiK6Qjd1-6",
    "outputId": "a473c0bf-f76d-4689-8884-028a871751b7"
   },
   "outputs": [
    {
     "data": {
      "text/plain": [
       "17"
      ]
     },
     "execution_count": 12,
     "metadata": {},
     "output_type": "execute_result"
    }
   ],
   "source": [
    "len(plaintext_tokenizer.word_index)+1"
   ]
  },
  {
   "cell_type": "code",
   "execution_count": 13,
   "metadata": {
    "colab": {
     "base_uri": "https://localhost:8080/"
    },
    "id": "Hk8HcQtEd1-7",
    "outputId": "e734311c-c349-47d9-c726-ff275f434840"
   },
   "outputs": [
    {
     "data": {
      "text/plain": [
       "{'e': 1,\n",
       " 'f': 2,\n",
       " '0': 3,\n",
       " 'b': 4,\n",
       " '2': 5,\n",
       " '5': 6,\n",
       " '9': 7,\n",
       " 'c': 8,\n",
       " 'a': 9,\n",
       " '3': 10,\n",
       " '4': 11,\n",
       " 'd': 12,\n",
       " '7': 13,\n",
       " '6': 14,\n",
       " '1': 15,\n",
       " '8': 16}"
      ]
     },
     "execution_count": 13,
     "metadata": {},
     "output_type": "execute_result"
    }
   ],
   "source": [
    "plaintext_tokenizer.word_index"
   ]
  },
  {
   "cell_type": "code",
   "execution_count": 14,
   "metadata": {
    "colab": {
     "base_uri": "https://localhost:8080/"
    },
    "id": "PPevgp-id1-7",
    "outputId": "e7085fd4-de9d-4636-a167-3681e52eb0a6"
   },
   "outputs": [
    {
     "data": {
      "text/plain": [
       "(60000, 20)"
      ]
     },
     "execution_count": 14,
     "metadata": {},
     "output_type": "execute_result"
    }
   ],
   "source": [
    "preproc_code_sentences.shape"
   ]
  },
  {
   "cell_type": "code",
   "execution_count": 15,
   "metadata": {
    "colab": {
     "base_uri": "https://localhost:8080/"
    },
    "id": "cxFxFP-Bd1-7",
    "outputId": "f2ae4663-bf7d-4992-ebad-54c974e2b78e"
   },
   "outputs": [
    {
     "data": {
      "text/plain": [
       "(60000, 40, 1)"
      ]
     },
     "execution_count": 15,
     "metadata": {},
     "output_type": "execute_result"
    }
   ],
   "source": [
    "preproc_plaintext_sentences.shape"
   ]
  },
  {
   "cell_type": "markdown",
   "metadata": {
    "id": "sKHZqlXyd1-8"
   },
   "source": [
    "# LSTM"
   ]
  },
  {
   "cell_type": "code",
   "execution_count": 16,
   "metadata": {
    "id": "HnLsrRNZd1-8"
   },
   "outputs": [],
   "source": [
    "from keras.layers import GRU, Input, Dense, TimeDistributed, LSTM\n",
    "from keras.models import Model, Sequential\n",
    "from keras.layers import Activation\n",
    "from tensorflow.keras.optimizers import Adam\n",
    "from keras.losses import sparse_categorical_crossentropy\n",
    "import tensorflow\n",
    "\n",
    "\n",
    "def lstm(input_shape, output_sequence_length, code_vocab_size, plaintext_vocab_size):\n",
    "    x = Input(shape=input_shape[1:])   \n",
    "    seq = LSTM(units= 128, return_sequences = True, name='Layer1')(x)\n",
    "    seq = LSTM(units= 128, return_sequences = True, name='Layer2')(seq)\n",
    "    output = TimeDistributed(Dense(units = plaintext_vocab_size, activation='softmax', name='Layer3'))(seq)\n",
    "    model = Model(inputs = x, outputs = output)\n",
    "    model.compile(optimizer='adam', loss=sparse_categorical_crossentropy, metrics=['accuracy'])\n",
    "    model.summary()\n",
    "    return model\n",
    "\n",
    "tmp_x = pad(preproc_code_sentences, preproc_plaintext_sentences.shape[1]) \n",
    "tmp_x = tmp_x.reshape((-1, preproc_plaintext_sentences.shape[-2], 1))     "
   ]
  },
  {
   "cell_type": "code",
   "execution_count": 17,
   "metadata": {
    "colab": {
     "base_uri": "https://localhost:8080/"
    },
    "id": "yOCnrOcnd1-8",
    "outputId": "e9ed1e68-9923-49c0-fe27-7fc6040b24cc"
   },
   "outputs": [
    {
     "data": {
      "text/plain": [
       "(60000, 40, 1)"
      ]
     },
     "execution_count": 17,
     "metadata": {},
     "output_type": "execute_result"
    }
   ],
   "source": [
    "tmp_x.shape"
   ]
  },
  {
   "cell_type": "code",
   "execution_count": 18,
   "metadata": {
    "colab": {
     "base_uri": "https://localhost:8080/"
    },
    "id": "dBuB49pZd1-9",
    "outputId": "5e165d21-0165-42bb-c5e2-e9bad83454ba"
   },
   "outputs": [
    {
     "name": "stdout",
     "output_type": "stream",
     "text": [
      "Model: \"model\"\n",
      "_________________________________________________________________\n",
      "Layer (type)                 Output Shape              Param #   \n",
      "=================================================================\n",
      "input_1 (InputLayer)         [(None, 40, 1)]           0         \n",
      "_________________________________________________________________\n",
      "Layer1 (LSTM)                (None, 40, 128)           66560     \n",
      "_________________________________________________________________\n",
      "Layer2 (LSTM)                (None, 40, 128)           131584    \n",
      "_________________________________________________________________\n",
      "time_distributed (TimeDistri (None, 40, 17)            2193      \n",
      "=================================================================\n",
      "Total params: 200,337\n",
      "Trainable params: 200,337\n",
      "Non-trainable params: 0\n",
      "_________________________________________________________________\n"
     ]
    }
   ],
   "source": [
    "lstm_model = lstm(\n",
    "    tmp_x.shape,\n",
    "    preproc_plaintext_sentences.shape[1],\n",
    "    len(code_tokenizer.word_index)+1,\n",
    "    len(plaintext_tokenizer.word_index)+1)"
   ]
  },
  {
   "cell_type": "code",
   "execution_count": 19,
   "metadata": {
    "colab": {
     "base_uri": "https://localhost:8080/"
    },
    "id": "AGK61DACd1-9",
    "outputId": "6059e2f6-bcf3-4b3a-c4c0-81656b9a336f"
   },
   "outputs": [
    {
     "name": "stdout",
     "output_type": "stream",
     "text": [
      "Epoch 1/15\n",
      "83/83 [==============================] - 22s 59ms/step - loss: 1.6396 - accuracy: 0.5466 - val_loss: 1.2547 - val_accuracy: 0.5936\n",
      "Epoch 2/15\n",
      "83/83 [==============================] - 4s 46ms/step - loss: 1.2527 - accuracy: 0.5926 - val_loss: 1.2292 - val_accuracy: 0.5968\n",
      "Epoch 3/15\n",
      "83/83 [==============================] - 4s 46ms/step - loss: 1.2377 - accuracy: 0.5940 - val_loss: 1.2241 - val_accuracy: 0.5966\n",
      "Epoch 4/15\n",
      "83/83 [==============================] - 4s 46ms/step - loss: 1.2315 - accuracy: 0.5940 - val_loss: 1.2175 - val_accuracy: 0.5979\n",
      "Epoch 5/15\n",
      "83/83 [==============================] - 4s 46ms/step - loss: 1.2362 - accuracy: 0.5952 - val_loss: 1.2149 - val_accuracy: 0.5983\n",
      "Epoch 6/15\n",
      "83/83 [==============================] - 4s 46ms/step - loss: 1.2218 - accuracy: 0.5960 - val_loss: 1.2150 - val_accuracy: 0.5977\n",
      "Epoch 7/15\n",
      "83/83 [==============================] - 4s 46ms/step - loss: 1.2173 - accuracy: 0.5970 - val_loss: 1.2107 - val_accuracy: 0.5983\n",
      "Epoch 8/15\n",
      "83/83 [==============================] - 4s 46ms/step - loss: 1.2250 - accuracy: 0.5959 - val_loss: 1.2077 - val_accuracy: 0.5997\n",
      "Epoch 9/15\n",
      "83/83 [==============================] - 4s 46ms/step - loss: 1.2110 - accuracy: 0.5983 - val_loss: 1.2372 - val_accuracy: 0.5977\n",
      "Epoch 10/15\n",
      "83/83 [==============================] - 4s 47ms/step - loss: 1.2259 - accuracy: 0.5966 - val_loss: 1.2100 - val_accuracy: 0.5990\n",
      "Epoch 11/15\n",
      "83/83 [==============================] - 4s 46ms/step - loss: 1.2142 - accuracy: 0.5987 - val_loss: 1.2058 - val_accuracy: 0.6006\n",
      "Epoch 12/15\n",
      "83/83 [==============================] - 4s 46ms/step - loss: 1.2092 - accuracy: 0.5984 - val_loss: 1.2007 - val_accuracy: 0.6006\n",
      "Epoch 13/15\n",
      "83/83 [==============================] - 4s 46ms/step - loss: 1.2022 - accuracy: 0.6000 - val_loss: 1.2005 - val_accuracy: 0.6007\n",
      "Epoch 14/15\n",
      "83/83 [==============================] - 4s 48ms/step - loss: 1.2078 - accuracy: 0.5989 - val_loss: 1.2125 - val_accuracy: 0.5992\n",
      "Epoch 15/15\n",
      "83/83 [==============================] - 4s 46ms/step - loss: 1.2096 - accuracy: 0.5990 - val_loss: 1.1993 - val_accuracy: 0.6014\n"
     ]
    },
    {
     "data": {
      "text/plain": [
       "<keras.callbacks.History at 0x2805b909430>"
      ]
     },
     "execution_count": 19,
     "metadata": {},
     "output_type": "execute_result"
    }
   ],
   "source": [
    "lstm_model.fit(tmp_x, preproc_plaintext_sentences, batch_size=512, epochs=15, validation_split=0.3)"
   ]
  },
  {
   "cell_type": "code",
   "execution_count": 26,
   "metadata": {},
   "outputs": [],
   "source": [
    "def logits_to_text(logits, tokenizer):\n",
    "    index_to_words = {id: word for word, id in tokenizer.word_index.items()}\n",
    "    index_to_words[0] = ''\n",
    "    return ''.join([index_to_words[prediction] for prediction in np.argmax(logits, 1)])\n",
    "\n",
    "def getPred(model, x, n):\n",
    "    print('Predicted\\t\\tActual')\n",
    "    for i in range(n):\n",
    "        print(logits_to_text(model.predict([x[:n]])[i], plaintext_tokenizer), end='\\t')\n",
    "        print(df['Passwords'][i])"
   ]
  },
  {
   "cell_type": "code",
   "execution_count": 27,
   "metadata": {
    "colab": {
     "base_uri": "https://localhost:8080/"
    },
    "id": "4PI9Ypxpd1--",
    "outputId": "18741fa3-e00d-469a-88aa-bb6944e808e3"
   },
   "outputs": [
    {
     "name": "stdout",
     "output_type": "stream",
     "text": [
      "Predicted\t\tActual\n",
      "ffb9dffff5c999bdfdd9\t2428031609\n",
      "feb9dffff5c999bdffdf\t4531040045\n",
      "ffeb9ffffcccccdddddd\talmigrana1\n",
      "fee4d0fffe999924\tquiero95\n",
      "feb9dffffe999924\tdoitnow2\n"
     ]
    }
   ],
   "source": [
    "getPred(lstm_model, tmp_x, 5)"
   ]
  },
  {
   "cell_type": "markdown",
   "metadata": {
    "id": "ZF4h-TUXd1-_"
   },
   "source": [
    "# GRU"
   ]
  },
  {
   "cell_type": "code",
   "execution_count": 22,
   "metadata": {
    "id": "zr9DVkOTd1-_"
   },
   "outputs": [],
   "source": [
    "def gru(input_shape, output_sequence_length, code_vocab_size, plaintext_vocab_size):\n",
    "    x = Input(shape=input_shape[1:])   \n",
    "    seq = GRU(units= 128, return_sequences = True, name='Layer1')(x)\n",
    "    seq = GRU(units= 128, return_sequences = True, name='Layer2')(seq)\n",
    "    output = TimeDistributed(Dense(units = plaintext_vocab_size, activation='softmax', name='Layer3'))(seq)\n",
    "    model = Model(inputs = x, outputs = output)\n",
    "    model.compile(optimizer='adam', loss= sparse_categorical_crossentropy, metrics=['accuracy'])\n",
    "    model.summary()\n",
    "    return model"
   ]
  },
  {
   "cell_type": "code",
   "execution_count": 23,
   "metadata": {
    "colab": {
     "base_uri": "https://localhost:8080/"
    },
    "id": "nv3fRkj7d1-_",
    "outputId": "ac22d596-80eb-4d0e-9cfc-090be796cf81"
   },
   "outputs": [
    {
     "name": "stdout",
     "output_type": "stream",
     "text": [
      "Model: \"model_1\"\n",
      "_________________________________________________________________\n",
      "Layer (type)                 Output Shape              Param #   \n",
      "=================================================================\n",
      "input_2 (InputLayer)         [(None, 40, 1)]           0         \n",
      "_________________________________________________________________\n",
      "Layer1 (GRU)                 (None, 40, 128)           50304     \n",
      "_________________________________________________________________\n",
      "Layer2 (GRU)                 (None, 40, 128)           99072     \n",
      "_________________________________________________________________\n",
      "time_distributed_1 (TimeDist (None, 40, 17)            2193      \n",
      "=================================================================\n",
      "Total params: 151,569\n",
      "Trainable params: 151,569\n",
      "Non-trainable params: 0\n",
      "_________________________________________________________________\n"
     ]
    }
   ],
   "source": [
    "gru_model = gru(\n",
    "    tmp_x.shape,\n",
    "    preproc_plaintext_sentences.shape[1],\n",
    "    len(code_tokenizer.word_index)+1,\n",
    "    len(plaintext_tokenizer.word_index)+1)"
   ]
  },
  {
   "cell_type": "code",
   "execution_count": 24,
   "metadata": {
    "colab": {
     "base_uri": "https://localhost:8080/"
    },
    "id": "oVg9KJaad1-_",
    "outputId": "4df6502d-ca0c-42df-869e-89859ed38db2"
   },
   "outputs": [
    {
     "name": "stdout",
     "output_type": "stream",
     "text": [
      "Epoch 1/15\n",
      "83/83 [==============================] - 8s 47ms/step - loss: 1.9122 - accuracy: 0.5520 - val_loss: 1.2722 - val_accuracy: 0.5920\n",
      "Epoch 2/15\n",
      "83/83 [==============================] - 3s 41ms/step - loss: 1.2584 - accuracy: 0.5914 - val_loss: 1.2301 - val_accuracy: 0.5958\n",
      "Epoch 3/15\n",
      "83/83 [==============================] - 3s 41ms/step - loss: 1.2378 - accuracy: 0.5934 - val_loss: 1.2235 - val_accuracy: 0.5969\n",
      "Epoch 4/15\n",
      "83/83 [==============================] - 3s 40ms/step - loss: 1.2261 - accuracy: 0.5958 - val_loss: 1.2155 - val_accuracy: 0.5973\n",
      "Epoch 5/15\n",
      "83/83 [==============================] - 3s 40ms/step - loss: 1.2224 - accuracy: 0.5965 - val_loss: 1.2120 - val_accuracy: 0.5994\n",
      "Epoch 6/15\n",
      "83/83 [==============================] - 3s 39ms/step - loss: 1.2196 - accuracy: 0.5969 - val_loss: 1.2113 - val_accuracy: 0.5998\n",
      "Epoch 7/15\n",
      "83/83 [==============================] - 3s 41ms/step - loss: 1.2120 - accuracy: 0.5980 - val_loss: 1.2324 - val_accuracy: 0.5976\n",
      "Epoch 8/15\n",
      "83/83 [==============================] - 3s 40ms/step - loss: 1.2146 - accuracy: 0.5979 - val_loss: 1.2034 - val_accuracy: 0.6004\n",
      "Epoch 9/15\n",
      "83/83 [==============================] - 3s 39ms/step - loss: 1.2109 - accuracy: 0.5979 - val_loss: 1.2032 - val_accuracy: 0.5994\n",
      "Epoch 10/15\n",
      "83/83 [==============================] - 3s 40ms/step - loss: 1.2549 - accuracy: 0.5948 - val_loss: 1.2070 - val_accuracy: 0.6003\n",
      "Epoch 11/15\n",
      "83/83 [==============================] - 3s 39ms/step - loss: 1.2086 - accuracy: 0.5992 - val_loss: 1.2015 - val_accuracy: 0.6011\n",
      "Epoch 12/15\n",
      "83/83 [==============================] - 3s 39ms/step - loss: 1.2082 - accuracy: 0.5988 - val_loss: 1.1990 - val_accuracy: 0.6004\n",
      "Epoch 13/15\n",
      "83/83 [==============================] - 3s 40ms/step - loss: 1.2062 - accuracy: 0.5991 - val_loss: 1.1974 - val_accuracy: 0.6006\n",
      "Epoch 14/15\n",
      "83/83 [==============================] - 3s 39ms/step - loss: 1.1994 - accuracy: 0.6008 - val_loss: 1.1961 - val_accuracy: 0.6019\n",
      "Epoch 15/15\n",
      "83/83 [==============================] - 3s 39ms/step - loss: 1.2004 - accuracy: 0.6008 - val_loss: 1.1959 - val_accuracy: 0.6016\n"
     ]
    },
    {
     "data": {
      "text/plain": [
       "<keras.callbacks.History at 0x2812418c430>"
      ]
     },
     "execution_count": 24,
     "metadata": {},
     "output_type": "execute_result"
    }
   ],
   "source": [
    "gru_model.fit(tmp_x, preproc_plaintext_sentences, batch_size=512, epochs=15, validation_split=0.3)"
   ]
  },
  {
   "cell_type": "code",
   "execution_count": 28,
   "metadata": {},
   "outputs": [
    {
     "name": "stdout",
     "output_type": "stream",
     "text": [
      "Predicted\t\tActual\n",
      "f1ba555005b9999b888f\t2428031609\n",
      "f1ba850000b9999b888f\t4531040045\n",
      "ff1e0d000055555ddd8f\talmigrana1\n",
      "f403800000999998\tquiero95\n",
      "f770800000999998\tdoitnow2\n"
     ]
    }
   ],
   "source": [
    "getPred(gru_model, tmp_x, 5)"
   ]
  }
 ],
 "metadata": {
  "colab": {
   "collapsed_sections": [],
   "name": "Deciphering Code with Character-Level RNN.ipynb",
   "provenance": []
  },
  "kernelspec": {
   "display_name": "Python 3",
   "language": "python",
   "name": "python3"
  },
  "language_info": {
   "codemirror_mode": {
    "name": "ipython",
    "version": 3
   },
   "file_extension": ".py",
   "mimetype": "text/x-python",
   "name": "python",
   "nbconvert_exporter": "python",
   "pygments_lexer": "ipython3",
   "version": "3.8.5"
  }
 },
 "nbformat": 4,
 "nbformat_minor": 1
}
