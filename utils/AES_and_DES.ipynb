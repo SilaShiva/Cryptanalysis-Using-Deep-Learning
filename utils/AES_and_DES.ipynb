{
  "cells": [
    {
      "cell_type": "markdown",
      "metadata": {
        "id": "UGXDiaGrZFA6"
      },
      "source": [
        "## AES"
      ]
    },
    {
      "cell_type": "code",
      "execution_count": null,
      "metadata": {
        "colab": {
          "base_uri": "https://localhost:8080/"
        },
        "id": "FJDTYi6nb0Wc",
        "outputId": "95a5dc82-58ff-4ee0-d465-fba0d615a46a"
      },
      "outputs": [
        {
          "name": "stdout",
          "output_type": "stream",
          "text": [
            "Requirement already satisfied: pyaes in /usr/local/lib/python3.7/dist-packages (1.6.1)\n",
            "Collecting pbkdf2\n",
            "  Downloading pbkdf2-1.3.tar.gz (6.4 kB)\n",
            "Building wheels for collected packages: pbkdf2\n",
            "  Building wheel for pbkdf2 (setup.py) ... \u001b[?25l\u001b[?25hdone\n",
            "  Created wheel for pbkdf2: filename=pbkdf2-1.3-py3-none-any.whl size=5103 sha256=1f8cc48c1e37614315e4ddcbc48edee4346adbd53d7cea4896f0437957a5266b\n",
            "  Stored in directory: /root/.cache/pip/wheels/49/16/ea/daca297d70ee0782ac6e16e83b2c55b2ca42a2113750bc0489\n",
            "Successfully built pbkdf2\n",
            "Installing collected packages: pbkdf2\n",
            "Successfully installed pbkdf2-1.3\n"
          ]
        }
      ],
      "source": [
        "!pip install pyaes\n",
        "!pip install pbkdf2"
      ]
    },
    {
      "cell_type": "code",
      "execution_count": null,
      "metadata": {
        "id": "urVzRV9G5Ib2"
      },
      "outputs": [],
      "source": [
        "import pyaes, pbkdf2, binascii, os, secrets"
      ]
    },
    {
      "cell_type": "code",
      "execution_count": null,
      "metadata": {
        "colab": {
          "base_uri": "https://localhost:8080/"
        },
        "id": "OIjTCL2LbU93",
        "outputId": "1b8b1f59-2dc1-42a4-e20c-2b8c231c08bc"
      },
      "outputs": [
        {
          "name": "stdout",
          "output_type": "stream",
          "text": [
            "Encrypted Text: b'fd4c866182c121fad2'\n"
          ]
        }
      ],
      "source": [
        "def aes_encrypt(seed, text):\n",
        "  seedSalt = ''\n",
        "  key = pbkdf2.PBKDF2(seed, seedSalt).read(32)\n",
        "  aes = pyaes.AESModeOfOperationCTR(key)\n",
        "  ciphertext = aes.encrypt(text)\n",
        "  print('Encrypted Text:', binascii.hexlify(ciphertext))\n",
        "\n",
        "aes_encrypt('horse','dajlbjfsb')"
      ]
    },
    {
      "cell_type": "markdown",
      "metadata": {
        "id": "WsnCT1acZHea"
      },
      "source": [
        "## DES"
      ]
    },
    {
      "cell_type": "code",
      "execution_count": null,
      "metadata": {
        "colab": {
          "base_uri": "https://localhost:8080/"
        },
        "id": "r3v6cPO4c-dK",
        "outputId": "dcf7ac1d-16da-4f96-c573-407dceaad11a"
      },
      "outputs": [
        {
          "name": "stdout",
          "output_type": "stream",
          "text": [
            "Collecting pyDes\n",
            "  Downloading pyDes-2.0.1.tar.gz (9.9 kB)\n",
            "Building wheels for collected packages: pyDes\n",
            "  Building wheel for pyDes (setup.py) ... \u001b[?25l\u001b[?25hdone\n",
            "  Created wheel for pyDes: filename=pyDes-2.0.1-py2.py3-none-any.whl size=9565 sha256=5c79d62505d7f79c358ebc1c6eb8b95a884df3d800d4df1eb6171aa676811e1d\n",
            "  Stored in directory: /root/.cache/pip/wheels/57/45/3a/cd3cffc8044aa6b8670109a57db784cc7c64dc52259a11575a\n",
            "Successfully built pyDes\n",
            "Installing collected packages: pyDes\n",
            "Successfully installed pyDes-2.0.1\n"
          ]
        }
      ],
      "source": [
        "!pip install pyDes"
      ]
    },
    {
      "cell_type": "code",
      "execution_count": null,
      "metadata": {
        "id": "bJDrpfYqCeC-"
      },
      "outputs": [],
      "source": [
        "from pyDes import des, CBC, PAD_PKCS5\n",
        "import binascii"
      ]
    },
    {
      "cell_type": "code",
      "execution_count": null,
      "metadata": {
        "colab": {
          "base_uri": "https://localhost:8080/"
        },
        "id": "QosZgd9lcnBE",
        "outputId": "9641dbca-d53f-4ed3-cd81-7f3f5156b40a"
      },
      "outputs": [
        {
          "name": "stdout",
          "output_type": "stream",
          "text": [
            "Encrypted Text:  ffc5f532a1dfe4bc\n"
          ]
        }
      ],
      "source": [
        "def des_encrypt(seed, text):\n",
        "    secret_seed = seed\n",
        "    iv = secret_seed\n",
        "    k = des(secret_seed, CBC, iv, pad=None, padmode=PAD_PKCS5)\n",
        "    en = k.encrypt(text, padmode=PAD_PKCS5)\n",
        "    print(\"Encrypted Text: \",binascii.b2a_hex(en).decode())\n",
        "\n",
        "des_encrypt('12345678','bvugug')"
      ]
    }
  ],
  "metadata": {
    "colab": {
      "collapsed_sections": [],
      "name": "AES_and_DES.ipynb",
      "provenance": []
    },
    "kernelspec": {
      "display_name": "Python 3",
      "name": "python3"
    },
    "language_info": {
      "name": "python"
    }
  },
  "nbformat": 4,
  "nbformat_minor": 0
}
